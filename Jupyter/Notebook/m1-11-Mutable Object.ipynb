{
 "cells": [
  {
   "cell_type": "markdown",
   "metadata": {},
   "source": [
    "<h2><ul>\n",
    "<li> Mutable Object</li>\n",
    "<li>inner variable 和outter variable指向同一個object </li>\n",
    "</ul></h2>"
   ]
  },
  {
   "cell_type": "markdown",
   "metadata": {},
   "source": [
    "### 1. parameter name 和 global variable 同樣命名時："
   ]
  },
  {
   "cell_type": "code",
   "execution_count": 15,
   "metadata": {},
   "outputs": [
    {
     "name": "stdout",
     "output_type": "stream",
     "text": [
      "inner:  [1, 3, 4, 5]\n",
      "outter:  [1, 3, 4, 5]\n"
     ]
    }
   ],
   "source": [
    "a=[1,3,4]\n",
    "\n",
    "\n",
    "def foo(a):\n",
    "    a.append(5)\n",
    "    print(\"inner: \", a)\n",
    "\n",
    "\n",
    "foo(a=a)\n",
    "print(\"outter: \", a)\n",
    "    "
   ]
  },
  {
   "cell_type": "markdown",
   "metadata": {},
   "source": [
    "### 2. parameter name 和 global variable 不同命名時, 結果一樣。"
   ]
  },
  {
   "cell_type": "code",
   "execution_count": 17,
   "metadata": {},
   "outputs": [
    {
     "name": "stdout",
     "output_type": "stream",
     "text": [
      "inner:  [1, 3, 4, 5]\n",
      "outter:  [1, 3, 4, 5]\n"
     ]
    }
   ],
   "source": [
    "a=[1,3,4]\n",
    "\n",
    "\n",
    "def foo(b):\n",
    "    b.append(5)\n",
    "    print(\"inner: \", b)\n",
    "\n",
    "\n",
    "foo(b=a)\n",
    "print(\"outter: \", a)\n",
    "    "
   ]
  },
  {
   "cell_type": "code",
   "execution_count": null,
   "metadata": {},
   "outputs": [],
   "source": []
  }
 ],
 "metadata": {
  "kernelspec": {
   "display_name": "Python 3",
   "language": "python",
   "name": "python3"
  },
  "language_info": {
   "codemirror_mode": {
    "name": "ipython",
    "version": 3
   },
   "file_extension": ".py",
   "mimetype": "text/x-python",
   "name": "python",
   "nbconvert_exporter": "python",
   "pygments_lexer": "ipython3",
   "version": "3.6.4"
  }
 },
 "nbformat": 4,
 "nbformat_minor": 2
}
