{
 "cells": [
  {
   "cell_type": "markdown",
   "metadata": {},
   "source": [
    "<https://realpython.com/primer-on-python-decorators/>\n",
    "----------------------\n",
    "# Case 1: wrapped function taking no input "
   ]
  },
  {
   "cell_type": "markdown",
   "metadata": {},
   "source": [
    "## 1. original function  "
   ]
  },
  {
   "cell_type": "code",
   "execution_count": 1,
   "metadata": {},
   "outputs": [],
   "source": [
    "def sayhi():\n",
    "    print(\"HI\")"
   ]
  },
  {
   "cell_type": "code",
   "execution_count": 9,
   "metadata": {},
   "outputs": [
    {
     "name": "stdout",
     "output_type": "stream",
     "text": [
      "HI\n"
     ]
    }
   ],
   "source": [
    "sayhi()"
   ]
  },
  {
   "cell_type": "markdown",
   "metadata": {},
   "source": [
    "## 2. 把function 做加工，change its behavior "
   ]
  },
  {
   "cell_type": "code",
   "execution_count": 13,
   "metadata": {},
   "outputs": [],
   "source": [
    "def double(func):\n",
    "    func()\n",
    "    func()"
   ]
  },
  {
   "cell_type": "code",
   "execution_count": 14,
   "metadata": {},
   "outputs": [
    {
     "name": "stdout",
     "output_type": "stream",
     "text": [
      "HI\n",
      "HI\n"
     ]
    }
   ],
   "source": [
    "double(sayhi)"
   ]
  },
  {
   "cell_type": "markdown",
   "metadata": {},
   "source": [
    "## 3. 我想要把上面的加工包成一個函式, retun “double” 這個函式"
   ]
  },
  {
   "cell_type": "code",
   "execution_count": 16,
   "metadata": {},
   "outputs": [],
   "source": [
    "def wrapper(func):\n",
    "    def double():\n",
    "        func();\n",
    "        func();\n",
    "    return double "
   ]
  },
  {
   "cell_type": "markdown",
   "metadata": {},
   "source": [
    "## 4. 使用wrapper 函數"
   ]
  },
  {
   "cell_type": "code",
   "execution_count": 17,
   "metadata": {},
   "outputs": [
    {
     "name": "stdout",
     "output_type": "stream",
     "text": [
      "HI\n",
      "HI\n"
     ]
    }
   ],
   "source": [
    "sayhi = wrapper(sayhi)\n",
    "sayhi()"
   ]
  },
  {
   "cell_type": "markdown",
   "metadata": {},
   "source": [
    "## 5. code sugar "
   ]
  },
  {
   "cell_type": "code",
   "execution_count": 19,
   "metadata": {},
   "outputs": [
    {
     "name": "stdout",
     "output_type": "stream",
     "text": [
      "hi\n",
      "hi\n"
     ]
    }
   ],
   "source": [
    "@wrapper\n",
    "def sayhi():\n",
    "    print('hi')\n",
    "\n",
    "sayhi()"
   ]
  },
  {
   "cell_type": "code",
   "execution_count": 20,
   "metadata": {},
   "outputs": [
    {
     "name": "stdout",
     "output_type": "stream",
     "text": [
      "Oh Godsh! \n",
      "Oh Godsh! \n"
     ]
    }
   ],
   "source": [
    "@wrapper \n",
    "def saygod():\n",
    "    print(\"Oh Godsh! \")\n",
    "    \n",
    "saygod()"
   ]
  },
  {
   "cell_type": "markdown",
   "metadata": {},
   "source": [
    "------"
   ]
  },
  {
   "cell_type": "markdown",
   "metadata": {},
   "source": [
    "# Previous Case : wrapped funciton takes no input \n",
    "\n",
    "```\n",
    "    def double():\n",
    "        func();\n",
    "        func();\n",
    "```\n",
    "\n",
    "# Case: wrapped function takes input "
   ]
  },
  {
   "cell_type": "markdown",
   "metadata": {},
   "source": [
    "# Case 2: a function which takes input"
   ]
  },
  {
   "cell_type": "markdown",
   "metadata": {},
   "source": [
    "## 1. "
   ]
  },
  {
   "cell_type": "code",
   "execution_count": 25,
   "metadata": {},
   "outputs": [
    {
     "name": "stdout",
     "output_type": "stream",
     "text": [
      "Hi, tom!\n"
     ]
    }
   ],
   "source": [
    "def sayhito(name):\n",
    "    print(f'Hi, {name}!')\n",
    "    \n",
    "sayhito('tom')"
   ]
  },
  {
   "cell_type": "markdown",
   "metadata": {},
   "source": [
    "## 2."
   ]
  },
  {
   "cell_type": "code",
   "execution_count": 26,
   "metadata": {},
   "outputs": [
    {
     "name": "stdout",
     "output_type": "stream",
     "text": [
      "Hi, Tome!\n",
      "Hi, Tome!\n"
     ]
    }
   ],
   "source": [
    "def double(sayhito,name):\n",
    "    sayhito(name)\n",
    "    sayhito(name)\n",
    "\n",
    "double(sayhito, 'Tome')"
   ]
  },
  {
   "cell_type": "markdown",
   "metadata": {},
   "source": [
    "## 3. 我想要把上面的加工包成一個函式, retun “double” 這個函式"
   ]
  },
  {
   "cell_type": "code",
   "execution_count": 27,
   "metadata": {},
   "outputs": [],
   "source": [
    "def wrapper(func): \n",
    "    def double(*arg):\n",
    "        func(*arg)\n",
    "        func(*arg)\n",
    "    return double \n"
   ]
  },
  {
   "cell_type": "markdown",
   "metadata": {},
   "source": [
    "## 4. 使用wrapper 函數"
   ]
  },
  {
   "cell_type": "code",
   "execution_count": 29,
   "metadata": {},
   "outputs": [
    {
     "name": "stdout",
     "output_type": "stream",
     "text": [
      "Hi, Tom!\n",
      "Hi, Tom!\n",
      "Hi, Tom!\n",
      "Hi, Tom!\n"
     ]
    }
   ],
   "source": [
    "sayhito = wrapper(sayhito)             # return inner function \n",
    "\n",
    "sayhito('Tom')                      # 執行 "
   ]
  },
  {
   "cell_type": "markdown",
   "metadata": {},
   "source": [
    "## 5. 使用code sugar "
   ]
  },
  {
   "cell_type": "code",
   "execution_count": 31,
   "metadata": {},
   "outputs": [],
   "source": [
    "@wrapper\n",
    "def sayhito(*arg):\n",
    "    print(f'hi {arg}')"
   ]
  },
  {
   "cell_type": "code",
   "execution_count": 32,
   "metadata": {},
   "outputs": [
    {
     "name": "stdout",
     "output_type": "stream",
     "text": [
      "hi ('Tom', 'peter')\n",
      "hi ('Tom', 'peter')\n"
     ]
    }
   ],
   "source": [
    "sayhito('Tom',\"peter\")"
   ]
  },
  {
   "cell_type": "markdown",
   "metadata": {},
   "source": [
    "# Case 3 Wrapped funtion returns a value "
   ]
  },
  {
   "cell_type": "code",
   "execution_count": 38,
   "metadata": {},
   "outputs": [],
   "source": [
    "def sayhito(name):\n",
    "    print(f'Hi, {name}!')\n",
    "    return f'return of variable: {name}'"
   ]
  },
  {
   "cell_type": "markdown",
   "metadata": {},
   "source": [
    "## 2. 包裝成function "
   ]
  },
  {
   "cell_type": "code",
   "execution_count": 44,
   "metadata": {},
   "outputs": [
    {
     "name": "stdout",
     "output_type": "stream",
     "text": [
      "Hi, Mary!\n",
      "Hi, Mary!\n",
      "Hi, Mary!\n",
      "return of variable: Mary\n"
     ]
    }
   ],
   "source": [
    "def double(sayhito, name):\n",
    "    sayhito(name)\n",
    "    sayhito(name)\n",
    "    return sayhito(name)\n",
    "\n",
    "return_variable = double(sayhito, 'Mary')\n",
    "print(return_variable)\n",
    "    "
   ]
  },
  {
   "cell_type": "markdown",
   "metadata": {},
   "source": [
    "## 3. Use Wrapper 來包裝成function "
   ]
  },
  {
   "cell_type": "code",
   "execution_count": 42,
   "metadata": {},
   "outputs": [],
   "source": [
    "def wrapper(func):\n",
    "    def double(*arg):\n",
    "        func(f'Hi, {arg}!')\n",
    "        return func(f'Hi, {arg}!')\n",
    "    return double\n",
    "    "
   ]
  },
  {
   "cell_type": "markdown",
   "metadata": {},
   "source": [
    "## 4. 使用wrapper "
   ]
  },
  {
   "cell_type": "code",
   "execution_count": 45,
   "metadata": {},
   "outputs": [
    {
     "name": "stdout",
     "output_type": "stream",
     "text": [
      "Hi, Hi, ('Mary',)!!\n",
      "Hi, Hi, ('Mary',)!!\n",
      "return of variable: Hi, ('Mary',)!\n"
     ]
    }
   ],
   "source": [
    "sayhito = wrapper(sayhito)\n",
    "\n",
    "return_variable = sayhito('Mary')\n",
    "print(return_variable)"
   ]
  },
  {
   "cell_type": "markdown",
   "metadata": {},
   "source": [
    "## 5. 使用code sugar "
   ]
  },
  {
   "cell_type": "code",
   "execution_count": 47,
   "metadata": {},
   "outputs": [
    {
     "name": "stdout",
     "output_type": "stream",
     "text": [
      "Hi, Hi, ('Mary',)!!\n",
      "Hi, Hi, ('Mary',)!!\n",
      "return of variable: Hi, ('Mary',)!\n"
     ]
    }
   ],
   "source": [
    "@wrapper\n",
    "def saytito(*arg):\n",
    "    print(f'Hi, {arg}!')\n",
    "    return sayhito(*arg)\n",
    "\n",
    "return_variable = sayhito(\"Mary\")\n",
    "print(return_variable)"
   ]
  },
  {
   "cell_type": "code",
   "execution_count": null,
   "metadata": {},
   "outputs": [],
   "source": []
  }
 ],
 "metadata": {
  "kernelspec": {
   "display_name": "Python 3",
   "language": "python",
   "name": "python3"
  },
  "language_info": {
   "codemirror_mode": {
    "name": "ipython",
    "version": 3
   },
   "file_extension": ".py",
   "mimetype": "text/x-python",
   "name": "python",
   "nbconvert_exporter": "python",
   "pygments_lexer": "ipython3",
   "version": "3.6.4"
  }
 },
 "nbformat": 4,
 "nbformat_minor": 2
}
