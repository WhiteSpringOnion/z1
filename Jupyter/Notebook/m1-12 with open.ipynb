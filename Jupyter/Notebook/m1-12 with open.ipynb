{
 "cells": [
  {
   "cell_type": "markdown",
   "metadata": {},
   "source": [
    "# Write my own with  as statement "
   ]
  },
  {
   "cell_type": "code",
   "execution_count": 26,
   "metadata": {},
   "outputs": [],
   "source": [
    "class A:\n",
    "    def __init__(self):\n",
    "        pass\n",
    "    \n",
    "    def _method_A(self):\n",
    "        return 5\n",
    "    \n",
    "    def __enter__(self):\n",
    "        print('you have entering \\'with context! \\'')\n",
    "        return self\n",
    "    \n",
    "    \n",
    "    # by default there are 4 arguments for an dunder exit function \n",
    "    def __exit__(self, exc_type, exc_val, exc_tb):\n",
    "        print('You are leaving \\' with context! \\' ')\n",
    "        "
   ]
  },
  {
   "cell_type": "code",
   "execution_count": 27,
   "metadata": {},
   "outputs": [],
   "source": [
    "instance = A()"
   ]
  },
  {
   "cell_type": "code",
   "execution_count": 28,
   "metadata": {},
   "outputs": [
    {
     "data": {
      "text/plain": [
       "5"
      ]
     },
     "execution_count": 28,
     "metadata": {},
     "output_type": "execute_result"
    }
   ],
   "source": [
    "instance._method_A()"
   ]
  },
  {
   "cell_type": "code",
   "execution_count": 29,
   "metadata": {},
   "outputs": [
    {
     "name": "stdout",
     "output_type": "stream",
     "text": [
      "you have entering 'with context! '\n",
      "5\n",
      "5\n",
      "You are leaving ' with context! ' \n"
     ]
    }
   ],
   "source": [
    "with A() as instance2:\n",
    "    print(instance2._method_A())\n",
    "    print(instance2._method_A())"
   ]
  },
  {
   "cell_type": "code",
   "execution_count": null,
   "metadata": {},
   "outputs": [],
   "source": []
  }
 ],
 "metadata": {
  "kernelspec": {
   "display_name": "Python 3",
   "language": "python",
   "name": "python3"
  },
  "language_info": {
   "codemirror_mode": {
    "name": "ipython",
    "version": 3
   },
   "file_extension": ".py",
   "mimetype": "text/x-python",
   "name": "python",
   "nbconvert_exporter": "python",
   "pygments_lexer": "ipython3",
   "version": "3.6.4"
  }
 },
 "nbformat": 4,
 "nbformat_minor": 2
}
