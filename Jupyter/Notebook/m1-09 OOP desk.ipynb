{
 "cells": [
  {
   "cell_type": "code",
   "execution_count": 39,
   "metadata": {},
   "outputs": [],
   "source": [
    "class SetTable:\n",
    "    \n",
    "    def __init__(self,table, cloth, flower, drink):\n",
    "        self.table=table\n",
    "        self.cloth =cloth\n",
    "        self.flower=flower\n",
    "        self.drink = drink\n",
    "        \n",
    "    def make_set(self):\n",
    "        return f'Assembled SetTable ({self.table},{self.cloth},{self.flower},{self.drink})'\n",
    "    \n",
    "    def __repr__(self):\n",
    "        return f'{self.__class__.__name__}:({self.table!r},{self.cloth!r},{self.flower!r},{self.drink!r})'\n",
    "        "
   ]
  },
  {
   "cell_type": "code",
   "execution_count": 40,
   "metadata": {},
   "outputs": [
    {
     "data": {
      "text/plain": [
       "SetTable:('circle table','black cloth','rose flower','coca cola')"
      ]
     },
     "execution_count": 40,
     "metadata": {},
     "output_type": "execute_result"
    }
   ],
   "source": [
    "SetTable_ins1= SetTable('circle table','black cloth', 'rose flower', 'coca cola')\n",
    "SetTable_ins1"
   ]
  },
  {
   "cell_type": "code",
   "execution_count": 41,
   "metadata": {},
   "outputs": [
    {
     "data": {
      "text/plain": [
       "'Assembled SetTable (circle table,black cloth,rose flower,coca cola)'"
      ]
     },
     "execution_count": 41,
     "metadata": {},
     "output_type": "execute_result"
    }
   ],
   "source": [
    "assemble_SetTable=SetTable_ins1.make_set()\n",
    "assemble_SetTable"
   ]
  },
  {
   "cell_type": "code",
   "execution_count": 52,
   "metadata": {},
   "outputs": [],
   "source": [
    "class Table:\n",
    "    \n",
    "    def __init__(self, woodboard, leg, screw):\n",
    "        self.woodboard = woodboard\n",
    "        self.leg = leg \n",
    "        self.screw = screw\n",
    "        \n",
    "    def make_table(self):\n",
    "        return self\n",
    "    \n",
    "    def __repr__(self):\n",
    "        return f'{self.__class__.__name__}({self.woodboard!r},{self.leg!r},{self.screw!r})'"
   ]
  },
  {
   "cell_type": "code",
   "execution_count": 53,
   "metadata": {},
   "outputs": [
    {
     "data": {
      "text/plain": [
       "Table('circle board','4 leg','10 cross screw ')"
      ]
     },
     "execution_count": 53,
     "metadata": {},
     "output_type": "execute_result"
    }
   ],
   "source": [
    "Table_ins = Table('circle board', '4 leg','10 cross screw ')\n",
    "Table_ins"
   ]
  },
  {
   "cell_type": "code",
   "execution_count": 54,
   "metadata": {},
   "outputs": [
    {
     "data": {
      "text/plain": [
       "Table('circle board','4 leg','10 cross screw ')"
      ]
     },
     "execution_count": 54,
     "metadata": {},
     "output_type": "execute_result"
    }
   ],
   "source": [
    "CircleTable = Table_ins.make_table()\n",
    "CircleTable"
   ]
  },
  {
   "cell_type": "markdown",
   "metadata": {},
   "source": [
    "----------"
   ]
  },
  {
   "cell_type": "code",
   "execution_count": 55,
   "metadata": {},
   "outputs": [
    {
     "data": {
      "text/plain": [
       "SetTable:(Table('circle board','4 leg','10 cross screw '),'black cloth','rose flower','cocacola')"
      ]
     },
     "execution_count": 55,
     "metadata": {},
     "output_type": "execute_result"
    }
   ],
   "source": [
    "SetTable_ins2 = SetTable(CircleTable, 'black cloth', 'rose flower','cocacola')\n",
    "SetTable_ins2"
   ]
  },
  {
   "cell_type": "code",
   "execution_count": 58,
   "metadata": {},
   "outputs": [
    {
     "data": {
      "text/plain": [
       "SetTable:(Table('square board','4 leg','10 cross screw '),'black cloth','rose flower','cocacola')"
      ]
     },
     "execution_count": 58,
     "metadata": {},
     "output_type": "execute_result"
    }
   ],
   "source": [
    "SetTable_ins2.table.woodboard= 'square board'\n",
    "SetTable_ins2"
   ]
  },
  {
   "cell_type": "code",
   "execution_count": null,
   "metadata": {},
   "outputs": [],
   "source": []
  }
 ],
 "metadata": {
  "kernelspec": {
   "display_name": "Python 3",
   "language": "python",
   "name": "python3"
  },
  "language_info": {
   "codemirror_mode": {
    "name": "ipython",
    "version": 3
   },
   "file_extension": ".py",
   "mimetype": "text/x-python",
   "name": "python",
   "nbconvert_exporter": "python",
   "pygments_lexer": "ipython3",
   "version": "3.6.4"
  }
 },
 "nbformat": 4,
 "nbformat_minor": 2
}
