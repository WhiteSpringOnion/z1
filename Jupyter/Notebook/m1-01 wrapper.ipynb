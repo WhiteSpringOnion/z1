{
 "cells": [
  {
   "cell_type": "markdown",
   "metadata": {},
   "source": [
    "<https://realpython.com/primer-on-python-decorators/>\n",
    "----------------------\n",
    "# Case 1: wrapped function taking no input "
   ]
  },
  {
   "cell_type": "markdown",
   "metadata": {},
   "source": [
    "## 1. original function  "
   ]
  },
  {
   "cell_type": "code",
   "execution_count": 1,
   "metadata": {},
   "outputs": [],
   "source": [
    "def sayhi():\n",
    "    print(\"HI\")"
   ]
  },
  {
   "cell_type": "code",
   "execution_count": 2,
   "metadata": {},
   "outputs": [
    {
     "name": "stdout",
     "output_type": "stream",
     "text": [
      "HI\n"
     ]
    }
   ],
   "source": [
    "sayhi()"
   ]
  },
  {
   "cell_type": "markdown",
   "metadata": {},
   "source": [
    "## 2. 想法： 加工包成一個函數"
   ]
  },
  {
   "cell_type": "code",
   "execution_count": 3,
   "metadata": {},
   "outputs": [],
   "source": [
    "def double(func):\n",
    "    func()\n",
    "    func()"
   ]
  },
  {
   "cell_type": "code",
   "execution_count": 4,
   "metadata": {},
   "outputs": [
    {
     "name": "stdout",
     "output_type": "stream",
     "text": [
      "HI\n",
      "HI\n"
     ]
    }
   ],
   "source": [
    "double(sayhi)"
   ]
  },
  {
   "cell_type": "markdown",
   "metadata": {},
   "source": [
    "## 3. 實踐：使用wrapper \n",
    "來 retun “double” 這個加工的 函式"
   ]
  },
  {
   "cell_type": "code",
   "execution_count": 5,
   "metadata": {},
   "outputs": [],
   "source": [
    "def wrapper(func):\n",
    "    def double():\n",
    "        func();\n",
    "        func();\n",
    "    return double "
   ]
  },
  {
   "cell_type": "markdown",
   "metadata": {},
   "source": [
    "## 4. 使用wrapper 函數"
   ]
  },
  {
   "cell_type": "code",
   "execution_count": 6,
   "metadata": {},
   "outputs": [
    {
     "name": "stdout",
     "output_type": "stream",
     "text": [
      "HI\n",
      "HI\n"
     ]
    }
   ],
   "source": [
    "sayhi = wrapper(sayhi)\n",
    "sayhi()"
   ]
  },
  {
   "cell_type": "markdown",
   "metadata": {},
   "source": [
    "## 5. code sugar "
   ]
  },
  {
   "cell_type": "code",
   "execution_count": 7,
   "metadata": {},
   "outputs": [
    {
     "name": "stdout",
     "output_type": "stream",
     "text": [
      "hi\n",
      "hi\n"
     ]
    }
   ],
   "source": [
    "@wrapper\n",
    "def sayhi():\n",
    "    print('hi')\n",
    "\n",
    "sayhi()"
   ]
  },
  {
   "cell_type": "code",
   "execution_count": 8,
   "metadata": {},
   "outputs": [
    {
     "name": "stdout",
     "output_type": "stream",
     "text": [
      "Oh Godsh! \n",
      "Oh Godsh! \n"
     ]
    }
   ],
   "source": [
    "@wrapper \n",
    "def saygod():\n",
    "    print(\"Oh Godsh! \")\n",
    "    \n",
    "saygod()"
   ]
  },
  {
   "cell_type": "markdown",
   "metadata": {},
   "source": [
    "------"
   ]
  },
  {
   "cell_type": "markdown",
   "metadata": {},
   "source": [
    "# Case 2: a function which takes input"
   ]
  },
  {
   "cell_type": "markdown",
   "metadata": {},
   "source": [
    "## 1. 一個original function:  that takes input "
   ]
  },
  {
   "cell_type": "code",
   "execution_count": 9,
   "metadata": {},
   "outputs": [
    {
     "name": "stdout",
     "output_type": "stream",
     "text": [
      "Hi, tom!\n"
     ]
    }
   ],
   "source": [
    "def sayhito(name):\n",
    "    print(f'Hi, {name}!')\n",
    "    \n",
    "sayhito('tom')"
   ]
  },
  {
   "cell_type": "markdown",
   "metadata": {},
   "source": [
    "## 2. 想法：加工包裝成function"
   ]
  },
  {
   "cell_type": "code",
   "execution_count": 10,
   "metadata": {},
   "outputs": [
    {
     "name": "stdout",
     "output_type": "stream",
     "text": [
      "Hi, Tome!\n",
      "Hi, Tome!\n"
     ]
    }
   ],
   "source": [
    "def double(sayhito,name):\n",
    "    sayhito(name)\n",
    "    sayhito(name)\n",
    "\n",
    "double(sayhito, 'Tome')"
   ]
  },
  {
   "cell_type": "markdown",
   "metadata": {},
   "source": [
    "## 3. 實踐： 使用wrapper \n",
    "來retun “double” 這個加工函式"
   ]
  },
  {
   "cell_type": "code",
   "execution_count": 11,
   "metadata": {},
   "outputs": [],
   "source": [
    "def wrapper(func): \n",
    "    def double(*arg):\n",
    "        func(*arg)\n",
    "        func(*arg)\n",
    "    return double \n"
   ]
  },
  {
   "cell_type": "markdown",
   "metadata": {},
   "source": [
    "## 4. 方法一：使用wrapper 函數"
   ]
  },
  {
   "cell_type": "code",
   "execution_count": 12,
   "metadata": {},
   "outputs": [
    {
     "name": "stdout",
     "output_type": "stream",
     "text": [
      "Hi, Tom!\n",
      "Hi, Tom!\n"
     ]
    }
   ],
   "source": [
    "sayhito = wrapper(sayhito)             # return inner function \n",
    "\n",
    "sayhito('Tom')                      # 執行 "
   ]
  },
  {
   "cell_type": "markdown",
   "metadata": {},
   "source": [
    "\n",
    "## 5. 方法二：使用code sugar "
   ]
  },
  {
   "cell_type": "code",
   "execution_count": 13,
   "metadata": {},
   "outputs": [],
   "source": [
    "@wrapper\n",
    "def sayhito(*arg):\n",
    "    print(f'hi {arg}')"
   ]
  },
  {
   "cell_type": "code",
   "execution_count": 14,
   "metadata": {},
   "outputs": [
    {
     "name": "stdout",
     "output_type": "stream",
     "text": [
      "hi ('Tom', 'peter')\n",
      "hi ('Tom', 'peter')\n"
     ]
    }
   ],
   "source": [
    "sayhito('Tom',\"peter\")"
   ]
  },
  {
   "cell_type": "markdown",
   "metadata": {},
   "source": [
    "# Case 3 Wrapped funtion returns a value "
   ]
  },
  {
   "cell_type": "markdown",
   "metadata": {},
   "source": [
    "## 1. 一個 original function"
   ]
  },
  {
   "cell_type": "code",
   "execution_count": 24,
   "metadata": {},
   "outputs": [],
   "source": [
    "def sayhito(name):\n",
    "    print(f'Hi, {name}!')\n",
    "    return f'return of variable: {name}'"
   ]
  },
  {
   "cell_type": "markdown",
   "metadata": {},
   "source": [
    "## 2. 想法：包裝成function "
   ]
  },
  {
   "cell_type": "code",
   "execution_count": 25,
   "metadata": {},
   "outputs": [
    {
     "name": "stdout",
     "output_type": "stream",
     "text": [
      "Hi, Mary!\n",
      "Hi, Mary!\n",
      "Hi, Mary!\n",
      "return of variable: Mary\n"
     ]
    }
   ],
   "source": [
    "def double(sayhito, name):\n",
    "    sayhito(name)\n",
    "    sayhito(name)\n",
    "    return sayhito(name)\n",
    "\n",
    "return_variable = double(sayhito, 'Mary')\n",
    "print(return_variable)\n",
    "    "
   ]
  },
  {
   "cell_type": "markdown",
   "metadata": {},
   "source": [
    "## 3. 實踐：用Use Wrapper 來包裝成function "
   ]
  },
  {
   "cell_type": "code",
   "execution_count": 30,
   "metadata": {},
   "outputs": [],
   "source": [
    "def wrapper(func):\n",
    "    def double(*arg):\n",
    "        func(f'Hi, {arg}!')\n",
    "        print(id(double))               # inner function 的 id  \n",
    "        return func(f'Hi, {arg}!')\n",
    "    \n",
    "    return double\n",
    "    "
   ]
  },
  {
   "cell_type": "markdown",
   "metadata": {},
   "source": [
    "## 4. 方法一：使用wrapper "
   ]
  },
  {
   "cell_type": "code",
   "execution_count": 31,
   "metadata": {},
   "outputs": [
    {
     "name": "stdout",
     "output_type": "stream",
     "text": [
      "Hi, Hi, (\"Hi, ('Mary',)!\",)!!\n",
      "Hi, Hi, (\"Hi, ('Mary',)!\",)!!\n",
      "4453476144\n",
      "Hi, Hi, (\"Hi, ('Mary',)!\",)!!\n",
      "Hi, Hi, (\"Hi, ('Mary',)!\",)!!\n",
      "return of variable: Hi, (\"Hi, ('Mary',)!\",)!\n"
     ]
    }
   ],
   "source": [
    "sayhito = wrapper(sayhito)\n",
    "\n",
    "return_variable = sayhito('Mary')\n",
    "print(return_variable)"
   ]
  },
  {
   "cell_type": "markdown",
   "metadata": {},
   "source": [
    "## 5. 方法二：使用code sugar "
   ]
  },
  {
   "cell_type": "code",
   "execution_count": 33,
   "metadata": {},
   "outputs": [
    {
     "name": "stdout",
     "output_type": "stream",
     "text": [
      "Hi, Hi, (\"Hi, ('Mary',)!\",)!!\n",
      "Hi, Hi, (\"Hi, ('Mary',)!\",)!!\n",
      "4453476144\n",
      "Hi, Hi, (\"Hi, ('Mary',)!\",)!!\n",
      "Hi, Hi, (\"Hi, ('Mary',)!\",)!!\n",
      "return of variable: Hi, (\"Hi, ('Mary',)!\",)!\n"
     ]
    }
   ],
   "source": [
    "@wrapper\n",
    "def saytito(*arg):\n",
    "    print(f'Hi, {arg}!')\n",
    "    return sayhito(*arg)\n",
    "\n",
    "return_variable = sayhito(\"Mary\")\n",
    "print(return_variable)"
   ]
  },
  {
   "cell_type": "markdown",
   "metadata": {},
   "source": [
    "# Case 4: functools.wrap()"
   ]
  },
  {
   "cell_type": "markdown",
   "metadata": {},
   "source": [
    "##### 背景： sayhito 被decoratored後， 是一個指向 wrapper_fuction 裡面的double_innerFunction 的一個variable。\n"
   ]
  },
  {
   "cell_type": "code",
   "execution_count": 34,
   "metadata": {},
   "outputs": [
    {
     "data": {
      "text/plain": [
       "<function __main__.wrapper.<locals>.double>"
      ]
     },
     "execution_count": 34,
     "metadata": {},
     "output_type": "execute_result"
    },
    {
     "data": {
      "text/plain": [
       "'double'"
      ]
     },
     "execution_count": 34,
     "metadata": {},
     "output_type": "execute_result"
    }
   ],
   "source": [
    "sayhito\n",
    "sayhito.__name__"
   ]
  },
  {
   "cell_type": "code",
   "execution_count": 35,
   "metadata": {},
   "outputs": [
    {
     "data": {
      "text/plain": [
       "4453476144"
      ]
     },
     "execution_count": 35,
     "metadata": {},
     "output_type": "execute_result"
    }
   ],
   "source": [
    "id(sayhito)"
   ]
  },
  {
   "cell_type": "markdown",
   "metadata": {},
   "source": [
    "## 主題： 讓sayhito 經過decorated 後，成為一個 新的function，而不是一個指向 wrapper_function 裡的inner_function 的 指標。 訂正： sayhito 經過decorated 後，只是update 了__name__ 和__doc__, 但並沒有成為一個新的函數。\n",
    "#### functools.wraps()\n",
    "#### ------  @functools.wraps(func)"
   ]
  },
  {
   "cell_type": "code",
   "execution_count": 36,
   "metadata": {},
   "outputs": [],
   "source": [
    "import functools\n",
    "\n",
    "def wrapper(func):\n",
    "    @functools.wraps(func)\n",
    "    def double(*arg):\n",
    "        func(f'Hi, {arg}!')\n",
    "        print(id(double))\n",
    "        return func(f'Hi, {arg}!')\n",
    "    return double"
   ]
  },
  {
   "cell_type": "code",
   "execution_count": 39,
   "metadata": {},
   "outputs": [
    {
     "data": {
      "text/plain": [
       "<function __main__.sayhito>"
      ]
     },
     "execution_count": 39,
     "metadata": {},
     "output_type": "execute_result"
    },
    {
     "data": {
      "text/plain": [
       "'sayhito'"
      ]
     },
     "execution_count": 39,
     "metadata": {},
     "output_type": "execute_result"
    }
   ],
   "source": [
    "@wrapper\n",
    "def sayhito(*arg):\n",
    "    print(f'Hi, {arg}!')\n",
    "    return f'return_variable = {arg}'\n",
    "\n",
    "sayhito\n",
    "sayhito.__name__"
   ]
  },
  {
   "cell_type": "code",
   "execution_count": 41,
   "metadata": {},
   "outputs": [
    {
     "name": "stdout",
     "output_type": "stream",
     "text": [
      "Hi, (\"Hi, ('Tom',)!\",)!\n",
      "4453630568\n",
      "Hi, (\"Hi, ('Tom',)!\",)!\n"
     ]
    },
    {
     "data": {
      "text/plain": [
       "'return_variable = (\"Hi, (\\'Tom\\',)!\",)'"
      ]
     },
     "execution_count": 41,
     "metadata": {},
     "output_type": "execute_result"
    },
    {
     "data": {
      "text/plain": [
       "4453630568"
      ]
     },
     "execution_count": 41,
     "metadata": {},
     "output_type": "execute_result"
    },
    {
     "data": {
      "text/plain": [
       "<function __main__.sayhito>"
      ]
     },
     "execution_count": 41,
     "metadata": {},
     "output_type": "execute_result"
    }
   ],
   "source": [
    "sayhito('Tom')\n",
    "id(sayhito)\n",
    "sayhito"
   ]
  },
  {
   "cell_type": "markdown",
   "metadata": {},
   "source": [
    "--------"
   ]
  },
  {
   "cell_type": "markdown",
   "metadata": {},
   "source": [
    "# Summary "
   ]
  },
  {
   "cell_type": "code",
   "execution_count": 23,
   "metadata": {},
   "outputs": [],
   "source": [
    "def wrapper(*arg):\n",
    "    def process_function(*arg):\n",
    "        func(*arg)\n",
    "        return fun(*arg)\n",
    "    return process_function \n"
   ]
  }
 ],
 "metadata": {
  "kernelspec": {
   "display_name": "Python 3",
   "language": "python",
   "name": "python3"
  },
  "language_info": {
   "codemirror_mode": {
    "name": "ipython",
    "version": 3
   },
   "file_extension": ".py",
   "mimetype": "text/x-python",
   "name": "python",
   "nbconvert_exporter": "python",
   "pygments_lexer": "ipython3",
   "version": "3.6.4"
  }
 },
 "nbformat": 4,
 "nbformat_minor": 2
}
