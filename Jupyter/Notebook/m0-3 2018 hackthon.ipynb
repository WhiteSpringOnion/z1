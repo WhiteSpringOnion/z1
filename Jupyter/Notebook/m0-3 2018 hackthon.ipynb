{
 "cells": [
  {
   "cell_type": "code",
   "execution_count": 20,
   "metadata": {},
   "outputs": [],
   "source": [
    "import pandas as pd\n",
    "from datetime import datetime"
   ]
  },
  {
   "cell_type": "code",
   "execution_count": 39,
   "metadata": {},
   "outputs": [
    {
     "data": {
      "text/plain": [
       "23"
      ]
     },
     "execution_count": 39,
     "metadata": {},
     "output_type": "execute_result"
    }
   ],
   "source": [
    "AAA = \"\"\"11:10:49.249 -> X= -9.00       Y= -1.00       Z= 20.00  \n",
    "11:10:49.283 -> X= -8.00       Y= 0.00       Z= 22.00  \n",
    "11:10:49.318 -> X= -9.00       Y= 1.00       Z= 22.00  \n",
    "11:10:49.352 -> X= -7.00       Y= -1.00       Z= 21.00  \n",
    "11:10:49.421 -> X= -8.00       Y= 0.00       Z= 21.00  \n",
    "11:10:49.455 -> X= -8.00       Y= 1.00       Z= 21.00  \n",
    "11:10:49.490 -> X= -8.00       Y= 0.00       Z= 21.00  \n",
    "11:10:49.524 -> X= -9.00       Y= 1.00       Z= 21.00  \n",
    "11:10:49.593 -> X= -8.00       Y= 2.00       Z= 21.00  \n",
    "11:10:49.626 -> X= -8.00       Y= 1.00       Z= 25.00  \n",
    "11:10:49.661 -> X= -8.00       Y= 1.00       Z= 21.00  \n",
    "11:10:49.696 -> X= -9.00       Y= 0.00       Z= 21.00  \n",
    "11:10:49.783 -> X= -8.00       Y= -1.00       Z= 21.00  \n",
    "11:10:49.783 -> X= -8.00       Y= -1.00       Z= 22.00  \n",
    "11:10:49.853 -> X= -8.00       Y= 2.00       Z= 21.00  \n",
    "11:10:49.899 -> X= -8.00       Y= 0.00       Z= 24.00  \n",
    "11:10:49.926 -> X= -7.00       Y= 0.00       Z= 21.00  \n",
    "11:10:49.961 -> X= -8.00       Y= 0.00       Z= 21.00  \n",
    "11:10:49.996 -> X= -8.00       Y= 0.00       Z= 21.00  \n",
    "11:10:50.064 -> X= -8.00       Y= 0.00       Z= 20.00  \n",
    "11:10:50.098 -> X= -8.00       Y= 0.00       Z= 22.00  \n",
    "11:10:50.133 -> X= -7.00       Y= 1.00       Z= 26.00  \n",
    "11:10:50.166 -> X= -9.00       Y= 0.00       Z= 22.00  \n",
    "11:10:50.234 -> X= -8.00       Y= 0.00       Z= 23.00  \n",
    "11:10:50.269 -> X= -8.00       Y= 1.00       Z= 20.00  \n",
    "11:10:50.304 -> X= -9.00       Y= 2.00       Z= 21.00  \n",
    "11:10:50.338 -> X= -8.00       Y= 0.00       Z= 21.00  \n",
    "11:10:50.408 -> X= -8.00       Y= 1.00       Z= 22.00  \n",
    "11:10:50.441 -> X= -8.00       Y= 2.00       Z= 23.00  \n",
    "11:10:50.476 -> X= -8.00       Y= 0.00       Z= 22.00  \n",
    "11:10:50.511 -> X= -9.00       Y= -1.00       Z= 21.00  \n",
    "11:10:50.580 -> X= -8.00       Y= 0.00       Z= 21.00  \n",
    "11:10:50.615 -> X= -7.00       Y= 0.00       Z= 21.00  \n",
    "11:10:50.651 -> X= -8.00       Y= 1.00       Z= 21.00  \n",
    "11:10:50.684 -> X= -8.00       Y= -1.00       Z= 24.00  \n",
    "11:10:50.752 -> X= -8.00       Y= -1.00       Z= 21.00  \n",
    "11:10:50.786 -> X= -9.00       Y= 0.00       Z= 21.00  \n",
    "11:10:50.820 -> X= -7.00       Y= 0.00       Z= 21.00  \n",
    "11:10:50.854 -> X= -8.00       Y= -1.00       Z= 21.00  \n",
    "11:10:50.923 -> X= -8.00       Y= 1.00       Z= 21.00  \n",
    "11:10:50.958 -> X= -7.00       Y= 0.00       Z= 20.00  \n",
    "11:10:50.993 -> X= -8.00       Y= -1.00       Z= 21.00  \n",
    "11:10:51.029 -> X= -8.00       Y= 0.00       Z= 22.00  \n",
    "11:10:51.097 -> X= -9.00       Y= 1.00       Z= 20.00  \n",
    "11:10:51.132 -> X= -9.00       Y= 1.00       Z= 27.00  \n",
    "11:10:51.167 -> X= -9.00       Y= 1.00       Z= 20.00  \n",
    "11:10:51.202 -> X= -8.00       Y= 0.00       Z= 21.00 \"\"\"\n",
    "\n",
    "\n",
    "def generate_datetime(h, m, s):\n",
    "    return datetime(2018, 10, 6, int(h), int(m), int(s.split(\".\")[0]), microsecond=int(s.split(\".\")[1])* 1000)\n",
    "\n",
    "times = [generate_datetime(*row.split(\" -> \")[0].split(\":\")) for row in AAA.split('\\n')]\n",
    "times = [t for t in times if t.second==50]\n",
    "len(times)"
   ]
  },
  {
   "cell_type": "code",
   "execution_count": 40,
   "metadata": {},
   "outputs": [
    {
     "name": "stdout",
     "output_type": "stream",
     "text": [
      "/Users/julienjazz/git/practice 2\r\n"
     ]
    }
   ],
   "source": [
    "!pwd\n"
   ]
  },
  {
   "cell_type": "code",
   "execution_count": null,
   "metadata": {},
   "outputs": [],
   "source": []
  },
  {
   "cell_type": "code",
   "execution_count": null,
   "metadata": {},
   "outputs": [],
   "source": []
  }
 ],
 "metadata": {
  "kernelspec": {
   "display_name": "Python 3",
   "language": "python",
   "name": "python3"
  },
  "language_info": {
   "codemirror_mode": {
    "name": "ipython",
    "version": 3
   },
   "file_extension": ".py",
   "mimetype": "text/x-python",
   "name": "python",
   "nbconvert_exporter": "python",
   "pygments_lexer": "ipython3",
   "version": "3.6.4"
  }
 },
 "nbformat": 4,
 "nbformat_minor": 2
}
