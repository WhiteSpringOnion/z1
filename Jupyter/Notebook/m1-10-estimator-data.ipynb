{
 "cells": [
  {
   "cell_type": "code",
   "execution_count": 1,
   "metadata": {},
   "outputs": [
    {
     "name": "stderr",
     "output_type": "stream",
     "text": [
      "/anaconda3/lib/python3.6/site-packages/h5py/__init__.py:36: FutureWarning: Conversion of the second argument of issubdtype from `float` to `np.floating` is deprecated. In future, it will be treated as `np.float64 == np.dtype(float).type`.\n",
      "  from ._conv import register_converters as _register_converters\n"
     ]
    }
   ],
   "source": [
    "import tensorflow as tf"
   ]
  },
  {
   "cell_type": "markdown",
   "metadata": {},
   "source": [
    "<h4>* * * enable_eager_execution()---optional</h4>"
   ]
  },
  {
   "cell_type": "code",
   "execution_count": 2,
   "metadata": {},
   "outputs": [],
   "source": [
    "tf.enable_eager_execution()"
   ]
  },
  {
   "cell_type": "markdown",
   "metadata": {},
   "source": [
    "<h3>0. Iterator for static dataset</h3>"
   ]
  },
  {
   "cell_type": "code",
   "execution_count": 2,
   "metadata": {},
   "outputs": [
    {
     "data": {
      "text/plain": [
       "<RangeDataset shapes: (), types: tf.int64>"
      ]
     },
     "execution_count": 2,
     "metadata": {},
     "output_type": "execute_result"
    }
   ],
   "source": [
    "dataset = tf.data.Dataset.range(100)\n",
    "dataset"
   ]
  },
  {
   "cell_type": "code",
   "execution_count": 3,
   "metadata": {},
   "outputs": [
    {
     "data": {
      "text/plain": [
       "<tensorflow.python.data.ops.iterator_ops.Iterator at 0x18240f3ac8>"
      ]
     },
     "execution_count": 3,
     "metadata": {},
     "output_type": "execute_result"
    }
   ],
   "source": [
    "iterator = dataset.make_one_shot_iterator()\n",
    "iterator"
   ]
  },
  {
   "cell_type": "code",
   "execution_count": 4,
   "metadata": {},
   "outputs": [
    {
     "data": {
      "text/plain": [
       "<tf.Tensor 'IteratorGetNext:0' shape=() dtype=int64>"
      ]
     },
     "execution_count": 4,
     "metadata": {},
     "output_type": "execute_result"
    }
   ],
   "source": [
    "next_element = iterator.get_next()\n",
    "next_element"
   ]
  },
  {
   "cell_type": "markdown",
   "metadata": {},
   "source": [
    "<h4><ul><li>run session</li><ul></h4>"
   ]
  },
  {
   "cell_type": "code",
   "execution_count": 6,
   "metadata": {},
   "outputs": [
    {
     "name": "stdout",
     "output_type": "stream",
     "text": [
      "0\n",
      "1\n",
      "2\n"
     ]
    }
   ],
   "source": [
    "with tf.Session() as sess:\n",
    "    for i in range(3):\n",
    "        print(sess.run(next_element))"
   ]
  },
  {
   "cell_type": "markdown",
   "metadata": {},
   "source": [
    "<h3> 1.Dataset.from_tensor_slices</h3>"
   ]
  },
  {
   "cell_type": "code",
   "execution_count": 2,
   "metadata": {},
   "outputs": [
    {
     "data": {
      "text/plain": [
       "<tf.Tensor 'random_uniform:0' shape=(4, 10) dtype=float32>"
      ]
     },
     "execution_count": 2,
     "metadata": {},
     "output_type": "execute_result"
    }
   ],
   "source": [
    "a = tf.random_uniform([4, 10])\n",
    "a"
   ]
  },
  {
   "cell_type": "code",
   "execution_count": 3,
   "metadata": {},
   "outputs": [
    {
     "data": {
      "text/plain": [
       "<TensorSliceDataset shapes: (10,), types: tf.float32>"
      ]
     },
     "execution_count": 3,
     "metadata": {},
     "output_type": "execute_result"
    }
   ],
   "source": [
    "dataset1 = tf.data.Dataset.from_tensor_slices(a)\n",
    "dataset1"
   ]
  },
  {
   "cell_type": "markdown",
   "metadata": {},
   "source": [
    "<h3><ul><li>Create Iterator 來檢視dataset object。</li>\n",
    "        <li> dataset.make_initializable_iterator()</li>\n",
    "</ul></h3>"
   ]
  },
  {
   "cell_type": "code",
   "execution_count": 4,
   "metadata": {},
   "outputs": [
    {
     "data": {
      "text/plain": [
       "<tensorflow.python.data.ops.iterator_ops.Iterator at 0x107abb048>"
      ]
     },
     "execution_count": 4,
     "metadata": {},
     "output_type": "execute_result"
    }
   ],
   "source": [
    "iterator1 = dataset1.make_initializable_iterator()\n",
    "iterator1"
   ]
  },
  {
   "cell_type": "code",
   "execution_count": 5,
   "metadata": {},
   "outputs": [
    {
     "data": {
      "text/plain": [
       "<tf.Tensor 'IteratorGetNext:0' shape=(10,) dtype=float32>"
      ]
     },
     "execution_count": 5,
     "metadata": {},
     "output_type": "execute_result"
    }
   ],
   "source": [
    "next_element = iterator1.get_next()\n",
    "next_element"
   ]
  },
  {
   "cell_type": "markdown",
   "metadata": {},
   "source": [
    "<h3><ul><li> run session</li></ul></h3>"
   ]
  },
  {
   "cell_type": "code",
   "execution_count": 9,
   "metadata": {},
   "outputs": [
    {
     "name": "stdout",
     "output_type": "stream",
     "text": [
      "[0.5170157  0.32645226 0.9237093  0.04061759 0.9843168  0.6013907\n",
      " 0.144225   0.47535765 0.35599148 0.12780094]\n",
      "[0.63256645 0.50441337 0.15754247 0.30029845 0.02676344 0.3532338\n",
      " 0.48057032 0.331483   0.66356015 0.83916044]\n",
      "[0.06297994 0.4856987  0.3069489  0.22894502 0.4575628  0.23467195\n",
      " 0.63251245 0.7911322  0.9365915  0.69400346]\n",
      "[0.31334436 0.537984   0.04706705 0.6142123  0.03450763 0.59833884\n",
      " 0.96710753 0.9210098  0.91163397 0.23464859]\n"
     ]
    }
   ],
   "source": [
    "with tf.Session() as sess:\n",
    "    \n",
    "    sess.run(iterator1.initializer)\n",
    "    \n",
    "    for i in range(4):\n",
    "        print(sess.run(next_element))\n",
    "    \n",
    "    "
   ]
  },
  {
   "cell_type": "markdown",
   "metadata": {},
   "source": [
    "<h3>2. One record/element with two components</h3>"
   ]
  },
  {
   "cell_type": "code",
   "execution_count": 28,
   "metadata": {},
   "outputs": [
    {
     "data": {
      "text/plain": [
       "<tf.Tensor 'random_uniform_7:0' shape=(4,) dtype=float32>"
      ]
     },
     "execution_count": 28,
     "metadata": {},
     "output_type": "execute_result"
    },
    {
     "data": {
      "text/plain": [
       "<tf.Tensor 'Print_6:0' shape=(4,) dtype=float32>"
      ]
     },
     "execution_count": 28,
     "metadata": {},
     "output_type": "execute_result"
    }
   ],
   "source": [
    "b = tf.random_uniform([4])\n",
    "print_b= tf.Print(b,[b],message=\"tf.Print b: \")\n",
    "\n",
    "b\n",
    "print_b"
   ]
  },
  {
   "cell_type": "code",
   "execution_count": 21,
   "metadata": {},
   "outputs": [
    {
     "data": {
      "text/plain": [
       "<tf.Tensor 'random_uniform_6:0' shape=(4, 100) dtype=int32>"
      ]
     },
     "execution_count": 21,
     "metadata": {},
     "output_type": "execute_result"
    },
    {
     "data": {
      "text/plain": [
       "<tf.Tensor 'Print_5:0' shape=(4, 100) dtype=int32>"
      ]
     },
     "execution_count": 21,
     "metadata": {},
     "output_type": "execute_result"
    }
   ],
   "source": [
    "b2 = tf.random_uniform([4, 100], maxval=100, dtype=tf.int32)\n",
    "print_b2 = tf.Print(b2,[b2], message= \"tf.Print b2: \")\n",
    "\n",
    "b2\n",
    "print_b2"
   ]
  },
  {
   "cell_type": "markdown",
   "metadata": {},
   "source": [
    "<h3><ul><li> run [b,b2] </li></ul></h3>"
   ]
  },
  {
   "cell_type": "code",
   "execution_count": 23,
   "metadata": {},
   "outputs": [
    {
     "data": {
      "text/plain": [
       "[array([0.24359047, 0.8487791 , 0.3571912 , 0.24016905], dtype=float32),\n",
       " array([[19, 64, 83, 19, 19, 16, 42, 55, 91, 75, 69, 35,  2, 99, 83, 94,\n",
       "         58, 10,  3, 61, 18, 84, 51, 20, 66, 13, 93, 46, 10, 54, 74, 42,\n",
       "          1, 21, 66, 72, 45, 75, 93, 46, 90, 51, 80, 73, 83, 32, 24, 36,\n",
       "          3, 21, 40, 86, 65, 29, 12, 69, 86, 14, 70, 33, 85, 62, 20, 61,\n",
       "         15, 98,  3, 85, 71, 25, 25, 65, 73, 34, 54,  1, 84, 12, 56, 59,\n",
       "         85, 33, 96, 73, 72, 11, 48, 25, 31, 67, 78, 62, 50, 98, 76, 76,\n",
       "         68, 11, 26, 67],\n",
       "        [76, 16, 80,  0, 64, 25, 62, 92, 65, 89, 23, 93, 21, 65, 46,  6,\n",
       "         80, 51, 93, 78,  5, 38, 92, 13, 93, 35, 93, 47, 73,  2, 42, 26,\n",
       "         10, 37, 82, 82, 14, 18, 79, 35,  0, 36, 29, 50, 52, 49, 86, 74,\n",
       "         43, 67, 76, 19, 86, 56, 78, 70, 45, 79, 42, 48, 40, 31, 28, 23,\n",
       "         75, 70, 75, 32, 85, 68, 71, 87,  6, 87, 79, 29, 79, 26, 69, 33,\n",
       "         46,  3, 97, 62, 89, 11, 84, 66,  1, 99, 98, 10, 50, 78,  2, 88,\n",
       "         91, 57, 98, 17],\n",
       "        [37, 86, 95, 41, 65, 55, 28, 89, 87, 43, 67, 15, 19, 45, 12, 94,\n",
       "         75,  5, 99, 52, 23, 85, 74, 81, 84, 80, 87, 36, 22, 32,  1, 87,\n",
       "         46, 99, 11, 81, 20, 64,  3, 48, 33, 76, 42, 29, 95, 38, 46, 62,\n",
       "         18, 41, 36,  2, 21, 20, 29, 54, 15, 39, 14, 62,  3, 73, 43, 71,\n",
       "         57, 16, 35, 63, 93, 87, 18, 48, 80, 56, 70, 70, 50, 60, 74, 16,\n",
       "         80, 73, 55, 42, 18, 25, 57, 64, 49, 96, 11, 97, 13, 68, 94, 14,\n",
       "         81, 25, 16,  8],\n",
       "        [13, 24, 98, 94, 30, 41, 26, 14, 55,  6, 57, 72, 56, 72, 70,  8,\n",
       "         25, 79, 31, 75, 48, 64, 32,  2, 60, 61, 28, 89,  4, 90, 39, 59,\n",
       "         97, 10, 17, 96, 79, 80, 43, 87, 46, 75, 60, 76, 94,  0, 70, 23,\n",
       "         94, 20, 84, 75, 23, 91, 21, 99, 90, 25, 51, 24,  7,  1, 86, 69,\n",
       "         82, 75, 93, 46, 44, 37, 41, 88, 51, 15, 26, 11, 35, 53, 73, 84,\n",
       "         33, 21, 99, 11, 34, 24, 60,  6, 53, 51,  0, 19, 46, 40, 14, 47,\n",
       "         16, 15, 37, 87]], dtype=int32)]"
      ]
     },
     "execution_count": 23,
     "metadata": {},
     "output_type": "execute_result"
    }
   ],
   "source": [
    "with tf.Session() as sess:\n",
    "    sess.run([print_b,print_b2])"
   ]
  },
  {
   "cell_type": "markdown",
   "metadata": {},
   "source": [
    "<h3><ul><li>寫成py檔</li></ul></h3>"
   ]
  },
  {
   "cell_type": "code",
   "execution_count": 37,
   "metadata": {},
   "outputs": [
    {
     "name": "stdout",
     "output_type": "stream",
     "text": [
      "Overwriting ./py/test.py\n"
     ]
    }
   ],
   "source": [
    "%%writefile ./py/test.py\n",
    "\n",
    "import tensorflow as tf\n",
    "\n",
    "b = tf.random_uniform([4])\n",
    "print_b= tf.Print(b,[b],message=\"tf.Print b: \\n\",first_n=20, summarize=10)\n",
    "\n",
    "b\n",
    "print_b\n",
    "\n",
    "b2 = tf.random_uniform([4, 100], maxval=100, dtype=tf.int32)\n",
    "print_b2 = tf.Print(b2,[b2], message= \"tf.Print b2: \\n\", first_n =20, summarize=10)\n",
    "\n",
    "b2\n",
    "print_b2\n",
    "\n",
    "with tf.Session() as sess:\n",
    "    sess.run([print_b,print_b2])"
   ]
  },
  {
   "cell_type": "markdown",
   "metadata": {},
   "source": [
    "<h3><ul><li>we can not tf.Print() dataset, 因為dataset 是pipeline。 只能用iterator 來檢視。</li></ul></h3>"
   ]
  },
  {
   "cell_type": "code",
   "execution_count": 13,
   "metadata": {},
   "outputs": [
    {
     "data": {
      "text/plain": [
       "<TensorSliceDataset shapes: ((), (100,)), types: (tf.float32, tf.int32)>"
      ]
     },
     "execution_count": 13,
     "metadata": {},
     "output_type": "execute_result"
    },
    {
     "data": {
      "text/plain": [
       "<ZipDataset shapes: ((10,), ((), (100,))), types: (tf.float32, (tf.float32, tf.int32))>"
      ]
     },
     "execution_count": 13,
     "metadata": {},
     "output_type": "execute_result"
    }
   ],
   "source": [
    "dataset2 = tf.data.Dataset.from_tensor_slices((b,b2))     # b 和 b2 是 array Tensor object\n",
    "dataset3 = tf.data.Dataset.zip((dataset1, dataset2))      # zip 兩個dataset Tensor Object \n",
    "dataset2\n",
    "dataset3\n"
   ]
  },
  {
   "cell_type": "markdown",
   "metadata": {},
   "source": [
    "<h3><ul><li>Create Iterator 來檢視dataset object。</li>\n",
    "        <li> dataset.make_initializable_iterator()</li>\n",
    "        <li> iterator.get_next()</li>\n",
    "        <li>sess.run(iterator.initializer)</li>\n",
    "</ul></h3>"
   ]
  },
  {
   "cell_type": "code",
   "execution_count": 14,
   "metadata": {},
   "outputs": [],
   "source": [
    "iterator2 = dataset2.make_initializable_iterator()\n",
    "iterator3 = dataset3.make_initializable_iterator()"
   ]
  },
  {
   "cell_type": "code",
   "execution_count": 15,
   "metadata": {},
   "outputs": [],
   "source": [
    "next_item2 = iterator2.get_next()\n",
    "next_item3 = iterator3.get_next()"
   ]
  },
  {
   "cell_type": "markdown",
   "metadata": {},
   "source": [
    "<h4><ul><li> run session</li></ul></h4>"
   ]
  },
  {
   "cell_type": "code",
   "execution_count": 16,
   "metadata": {},
   "outputs": [
    {
     "data": {
      "text/plain": [
       "[None, None]"
      ]
     },
     "execution_count": 16,
     "metadata": {},
     "output_type": "execute_result"
    },
    {
     "name": "stdout",
     "output_type": "stream",
     "text": [
      "[(0.7078049, array([50, 18, 32, 49, 24, 78, 61, 71, 45, 71, 81, 77, 25, 13, 15, 39, 29,\n",
      "       12, 66, 63, 12, 74,  2, 38, 17,  6, 36, 15, 84, 87, 38, 47, 96, 46,\n",
      "       90, 90, 12, 32, 38, 40, 50, 73, 60, 60, 72, 16, 70, 33, 46, 24,  0,\n",
      "       96, 98,  5, 48, 17, 34, 62, 79, 15, 41, 36, 54, 60, 50,  3, 24, 31,\n",
      "       39, 45, 76, 16, 16, 28, 70, 95, 35, 32, 40, 16, 44, 77, 11, 62, 42,\n",
      "       49, 89, 92, 97, 64, 70,  6, 54,  2,  3, 66, 26, 25, 36, 15],\n",
      "      dtype=int32)), (array([0.2772863 , 0.05155385, 0.27907157, 0.8239219 , 0.60516715,\n",
      "       0.12804866, 0.4123572 , 0.617401  , 0.21549892, 0.1087184 ],\n",
      "      dtype=float32), (0.7078049, array([50, 18, 32, 49, 24, 78, 61, 71, 45, 71, 81, 77, 25, 13, 15, 39, 29,\n",
      "       12, 66, 63, 12, 74,  2, 38, 17,  6, 36, 15, 84, 87, 38, 47, 96, 46,\n",
      "       90, 90, 12, 32, 38, 40, 50, 73, 60, 60, 72, 16, 70, 33, 46, 24,  0,\n",
      "       96, 98,  5, 48, 17, 34, 62, 79, 15, 41, 36, 54, 60, 50,  3, 24, 31,\n",
      "       39, 45, 76, 16, 16, 28, 70, 95, 35, 32, 40, 16, 44, 77, 11, 62, 42,\n",
      "       49, 89, 92, 97, 64, 70,  6, 54,  2,  3, 66, 26, 25, 36, 15],\n",
      "      dtype=int32)))]\n",
      "[(0.28358328, array([97,  0, 46, 36, 35, 45, 28, 89,  8, 23, 26, 10, 74, 73, 65, 72, 36,\n",
      "       37, 78, 93, 17, 36, 32, 45, 43, 83, 21, 50, 89, 19, 37,  2, 46, 30,\n",
      "       33, 87,  8, 74, 93, 57, 80, 81, 93, 22, 30, 70, 86, 51, 46, 58, 52,\n",
      "       75, 38, 48, 42, 51, 69,  1, 57,  4, 82, 65, 37, 32, 71, 79, 88, 30,\n",
      "       74, 19, 11, 76, 59, 65, 75, 58, 11, 89, 87, 67, 66, 29, 95, 65, 65,\n",
      "       69, 88, 91,  0, 11, 64, 14, 19, 65,  7, 70, 61, 20, 57, 52],\n",
      "      dtype=int32)), (array([0.06254244, 0.7324103 , 0.5390049 , 0.5431528 , 0.13333988,\n",
      "       0.33669412, 0.13683712, 0.64699805, 0.8330835 , 0.11707544],\n",
      "      dtype=float32), (0.28358328, array([97,  0, 46, 36, 35, 45, 28, 89,  8, 23, 26, 10, 74, 73, 65, 72, 36,\n",
      "       37, 78, 93, 17, 36, 32, 45, 43, 83, 21, 50, 89, 19, 37,  2, 46, 30,\n",
      "       33, 87,  8, 74, 93, 57, 80, 81, 93, 22, 30, 70, 86, 51, 46, 58, 52,\n",
      "       75, 38, 48, 42, 51, 69,  1, 57,  4, 82, 65, 37, 32, 71, 79, 88, 30,\n",
      "       74, 19, 11, 76, 59, 65, 75, 58, 11, 89, 87, 67, 66, 29, 95, 65, 65,\n",
      "       69, 88, 91,  0, 11, 64, 14, 19, 65,  7, 70, 61, 20, 57, 52],\n",
      "      dtype=int32)))]\n",
      "[(0.51742613, array([69,  9, 88, 86,  7, 50, 54, 11,  2,  2, 23, 80, 92, 25, 15, 49, 54,\n",
      "       20, 43, 66, 38, 40, 46, 72, 68, 61, 70, 71, 34, 17, 29, 79, 16,  2,\n",
      "        2, 11, 22, 83, 61, 15, 36, 96, 40, 93, 86, 89, 62, 66, 46, 15, 80,\n",
      "       68, 47, 70, 43, 90,  3, 11, 46, 78,  3, 97, 48, 88, 62, 16, 61, 18,\n",
      "       56, 80,  6, 73, 92, 16, 65, 42, 26, 60, 18, 29,  5, 25, 83, 37, 14,\n",
      "       46, 24, 18, 87, 61, 94, 12, 22, 35, 15, 52, 61, 26, 46, 63],\n",
      "      dtype=int32)), (array([0.59428847, 0.9021183 , 0.17402112, 0.14152169, 0.9581692 ,\n",
      "       0.9972904 , 0.9648491 , 0.79178786, 0.18751597, 0.7253895 ],\n",
      "      dtype=float32), (0.51742613, array([69,  9, 88, 86,  7, 50, 54, 11,  2,  2, 23, 80, 92, 25, 15, 49, 54,\n",
      "       20, 43, 66, 38, 40, 46, 72, 68, 61, 70, 71, 34, 17, 29, 79, 16,  2,\n",
      "        2, 11, 22, 83, 61, 15, 36, 96, 40, 93, 86, 89, 62, 66, 46, 15, 80,\n",
      "       68, 47, 70, 43, 90,  3, 11, 46, 78,  3, 97, 48, 88, 62, 16, 61, 18,\n",
      "       56, 80,  6, 73, 92, 16, 65, 42, 26, 60, 18, 29,  5, 25, 83, 37, 14,\n",
      "       46, 24, 18, 87, 61, 94, 12, 22, 35, 15, 52, 61, 26, 46, 63],\n",
      "      dtype=int32)))]\n"
     ]
    }
   ],
   "source": [
    "with tf.Session() as sess:\n",
    "    \n",
    "    sess.run([iterator2.initializer, iterator3.initializer])\n",
    "    \n",
    "    for i in range(3):\n",
    "        print(sess.run([next_item2,next_item3]))\n",
    "    \n",
    "    "
   ]
  },
  {
   "cell_type": "markdown",
   "metadata": {},
   "source": [
    "<h3><ul><li>寫成py檔</li></ul></h3>"
   ]
  },
  {
   "cell_type": "code",
   "execution_count": 8,
   "metadata": {},
   "outputs": [
    {
     "name": "stdout",
     "output_type": "stream",
     "text": [
      "Overwriting ./py/test.py\n"
     ]
    }
   ],
   "source": [
    "%%writefile ./py/test.py\n",
    "\n",
    "import tensorflow as tf\n",
    "\n",
    "a = tf.random_uniform([4, 10],maxval=10,dtype=tf.int32)\n",
    "b = tf.random_uniform([4],maxval=10, dtype=tf.int32)\n",
    "b2 = tf.random_uniform([4, 100], maxval=100, dtype=tf.int32)\n",
    "\n",
    "dataset1 = tf.data.Dataset.from_tensor_slices(a)\n",
    "dataset2 = tf.data.Dataset.from_tensor_slices((b,b2))\n",
    "dataset3 = tf.data.Dataset.zip((dataset1, dataset2))\n",
    " \n",
    "iterator2 = dataset2.make_initializable_iterator()\n",
    "iterator3 = dataset3.make_initializable_iterator()\n",
    "\n",
    "next_item2 = iterator2.get_next()\n",
    "next_item3 = iterator3.get_next()\n",
    "\n",
    "# print_next_item2 = tf.Print(next_item2, [next_item2])\n",
    "# print_next_item3 = tf.Print(next_item3, [next_item3])\n",
    "\n",
    "with tf.Session() as sess:\n",
    "    \n",
    "    sess.run([iterator2.initializer,iterator3.initializer])\n",
    "    \n",
    "    for i in range(4):\n",
    "        \n",
    "#         sess.run([print_next_item2,print_next_item3])\n",
    "        print(sess.run([next_item2, next_item3]))"
   ]
  },
  {
   "cell_type": "code",
   "execution_count": null,
   "metadata": {},
   "outputs": [],
   "source": []
  },
  {
   "cell_type": "code",
   "execution_count": null,
   "metadata": {},
   "outputs": [],
   "source": []
  }
 ],
 "metadata": {
  "kernelspec": {
   "display_name": "Python 3",
   "language": "python",
   "name": "python3"
  },
  "language_info": {
   "codemirror_mode": {
    "name": "ipython",
    "version": 3
   },
   "file_extension": ".py",
   "mimetype": "text/x-python",
   "name": "python",
   "nbconvert_exporter": "python",
   "pygments_lexer": "ipython3",
   "version": "3.6.4"
  }
 },
 "nbformat": 4,
 "nbformat_minor": 2
}
