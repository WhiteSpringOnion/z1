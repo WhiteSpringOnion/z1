{
 "cells": [
  {
   "cell_type": "markdown",
   "metadata": {},
   "source": [
    "## 這篇介紹tf.Print() 的用法"
   ]
  },
  {
   "cell_type": "markdown",
   "metadata": {},
   "source": [
    "## ex1）"
   ]
  },
  {
   "cell_type": "markdown",
   "metadata": {},
   "source": [
    "1）查看電腦裡的tensorflow 支援的是新版的tf.print() 或是tf.Print()"
   ]
  },
  {
   "cell_type": "code",
   "execution_count": 2,
   "metadata": {},
   "outputs": [],
   "source": [
    "import tensorflow as tf"
   ]
  },
  {
   "cell_type": "code",
   "execution_count": 3,
   "metadata": {},
   "outputs": [
    {
     "data": {
      "text/plain": [
       "'Print'"
      ]
     },
     "execution_count": 3,
     "metadata": {},
     "output_type": "execute_result"
    }
   ],
   "source": [
    "tf.Print.__name__"
   ]
  },
  {
   "cell_type": "code",
   "execution_count": 4,
   "metadata": {},
   "outputs": [
    {
     "ename": "AttributeError",
     "evalue": "module 'tensorflow' has no attribute 'print'",
     "output_type": "error",
     "traceback": [
      "\u001b[0;31m---------------------------------------------------------------------------\u001b[0m",
      "\u001b[0;31mAttributeError\u001b[0m                            Traceback (most recent call last)",
      "\u001b[0;32m<ipython-input-4-155f29c084b7>\u001b[0m in \u001b[0;36m<module>\u001b[0;34m()\u001b[0m\n\u001b[0;32m----> 1\u001b[0;31m \u001b[0mtf\u001b[0m\u001b[0;34m.\u001b[0m\u001b[0mprint\u001b[0m\u001b[0;34m.\u001b[0m\u001b[0m__name__\u001b[0m\u001b[0;34m\u001b[0m\u001b[0m\n\u001b[0m",
      "\u001b[0;31mAttributeError\u001b[0m: module 'tensorflow' has no attribute 'print'"
     ]
    }
   ],
   "source": [
    "tf.print.__name__"
   ]
  },
  {
   "cell_type": "markdown",
   "metadata": {},
   "source": [
    "##### <ul><li>小寫的tf.print. _name__ 傳回 AttributeError。</li> <li>代表我的tensorflow 裡沒有小寫的tf.print。我的tensorflow 用的是大寫的tf.Print()。</li><li>如果電腦裡的是tf_print，則需要將 \"x1=tf.Print(x,[x])\",  拿掉 “x1=”,  只剩 \"tf.print(x,[x])\"，這樣就好。</li><li>不過這樣就不能sess.run(x1)了。不知道要怎麼改</li></ul>"
   ]
  },
  {
   "cell_type": "markdown",
   "metadata": {},
   "source": [
    "2）開始"
   ]
  },
  {
   "cell_type": "code",
   "execution_count": 5,
   "metadata": {},
   "outputs": [],
   "source": [
    "def graph(input):\n",
    "    x=input[0]\n",
    "    x1= tf.Print(x,[x],message=\"tf pirnt node\",name=\"julien_node\")\n",
    "    print('x= ',x)\n",
    "    print('x1= ',x1)\n",
    "    print('x1.name = ',x1.name)\n",
    "    return x1\n",
    "    "
   ]
  },
  {
   "cell_type": "code",
   "execution_count": 6,
   "metadata": {},
   "outputs": [
    {
     "name": "stdout",
     "output_type": "stream",
     "text": [
      "x=  Tensor(\"strided_slice:0\", shape=(), dtype=int32)\n",
      "x1=  Tensor(\"julien_node:0\", shape=(), dtype=int32)\n",
      "x1.name =  julien_node:0\n"
     ]
    },
    {
     "data": {
      "text/plain": [
       "1"
      ]
     },
     "execution_count": 6,
     "metadata": {},
     "output_type": "execute_result"
    }
   ],
   "source": [
    "with tf.Session() as sess:\n",
    "    input = tf.constant([1,2,3,4,5])\n",
    "    sess.run(graph(input))\n",
    "    \n",
    "# equivalent to sess.run(x1)"
   ]
  },
  {
   "cell_type": "markdown",
   "metadata": {},
   "source": [
    "### 寫成py 檔\n",
    "#### <ul><li>因為tf.Print()是print 到系統的stderr。所以我們要在command line 下去執行 : $ python tf_print_1.py </li><ul>"
   ]
  },
  {
   "cell_type": "code",
   "execution_count": 7,
   "metadata": {},
   "outputs": [
    {
     "name": "stdout",
     "output_type": "stream",
     "text": [
      "Overwriting tf_print_1.py\n"
     ]
    }
   ],
   "source": [
    "%%writefile tf_print_1.py\n",
    "import tensorflow as tf\n",
    "\n",
    "def graph(input):\n",
    "    x=input[0]\n",
    "    x1= tf.Print(x,[x],message=\"tf_Print is : \",name=\"julien_node\")\n",
    "    print('x= ',x)\n",
    "    print('x1= ',x1)\n",
    "    print('x1.name = ',x1.name)\n",
    "    return x1\n",
    "    \n",
    "\n",
    "with tf.Session() as sess:\n",
    "    input = tf.constant([1,2,3,4,5])\n",
    "    sess.run(graph(input))\n",
    "    \n",
    "# equivalent to sess.run(x1)"
   ]
  },
  {
   "cell_type": "markdown",
   "metadata": {},
   "source": [
    "### 用placeholder 寫"
   ]
  },
  {
   "cell_type": "markdown",
   "metadata": {},
   "source": [
    "### <ul><li>make_graph()必須return placeholder 的namespace。</li><li>input = tf.placeholder</li><li>因為feed_dict的key 必須是global variable。</li><li>feed_dict={input: np_array}</li><li>如果make_graph()不return input 出來。input variable 是make_graph的local variable。 </li></ul>"
   ]
  },
  {
   "cell_type": "code",
   "execution_count": 8,
   "metadata": {},
   "outputs": [],
   "source": [
    "import tensorflow as tf\n",
    "import numpy as np"
   ]
  },
  {
   "cell_type": "code",
   "execution_count": 9,
   "metadata": {},
   "outputs": [],
   "source": [
    "def make_graph():\n",
    "    input =tf.placeholder(dtype=tf.int32, shape=None)\n",
    "    x=input[1]\n",
    "    x1= tf.Print(x,[x],message=\"tf pirnt node\",name=\"julien_print_node\")\n",
    "    return x1,x,input"
   ]
  },
  {
   "cell_type": "code",
   "execution_count": 10,
   "metadata": {},
   "outputs": [
    {
     "data": {
      "text/plain": [
       "2"
      ]
     },
     "execution_count": 10,
     "metadata": {},
     "output_type": "execute_result"
    }
   ],
   "source": [
    "with tf.Session() as sess:\n",
    "    input_array = np.array([1,2,3,4,5])\n",
    "    x1,_,input = make_graph()\n",
    "    sess.run(x1, feed_dict={input: input_array})\n",
    "    "
   ]
  },
  {
   "cell_type": "markdown",
   "metadata": {},
   "source": [
    "## ex2）用loop 寫一次\n",
    "### making 5 \"dangling“ node：x1 in the same graph 。"
   ]
  },
  {
   "cell_type": "code",
   "execution_count": 11,
   "metadata": {},
   "outputs": [],
   "source": [
    "def graph(input):\n",
    "    node = []\n",
    "    # 我想表達的是for i in range(len(input))，只不過因為input 是Tensor object, 所以寫起來就很麻煩。\n",
    "    for i in range(tf.shape(input)[0].eval()):\n",
    "        x=input[i]\n",
    "        x1= tf.Print(x,[x],message=\"tf_Print is: \",name=\"julien_node\")\n",
    "        print('x= ',x)\n",
    "        print('x1= ',x1)\n",
    "        node.append(x1)\n",
    "    return node\n",
    "    "
   ]
  },
  {
   "cell_type": "code",
   "execution_count": 12,
   "metadata": {},
   "outputs": [
    {
     "ename": "ValueError",
     "evalue": "Cannot evaluate tensor using `eval()`: No default session is registered. Use `with sess.as_default()` or pass an explicit session to `eval(session=sess)`",
     "output_type": "error",
     "traceback": [
      "\u001b[0;31m---------------------------------------------------------------------------\u001b[0m",
      "\u001b[0;31mValueError\u001b[0m                                Traceback (most recent call last)",
      "\u001b[0;32m<ipython-input-12-e32957247096>\u001b[0m in \u001b[0;36m<module>\u001b[0;34m()\u001b[0m\n\u001b[0;32m----> 1\u001b[0;31m \u001b[0mnode\u001b[0m \u001b[0;34m=\u001b[0m \u001b[0mgraph\u001b[0m\u001b[0;34m(\u001b[0m\u001b[0mtf\u001b[0m\u001b[0;34m.\u001b[0m\u001b[0mconstant\u001b[0m\u001b[0;34m(\u001b[0m\u001b[0;34m[\u001b[0m\u001b[0;36m1\u001b[0m\u001b[0;34m,\u001b[0m\u001b[0;36m2\u001b[0m\u001b[0;34m,\u001b[0m\u001b[0;36m3\u001b[0m\u001b[0;34m,\u001b[0m\u001b[0;36m4\u001b[0m\u001b[0;34m,\u001b[0m\u001b[0;36m5\u001b[0m\u001b[0;34m]\u001b[0m\u001b[0;34m)\u001b[0m\u001b[0;34m)\u001b[0m\u001b[0;34m\u001b[0m\u001b[0m\n\u001b[0m\u001b[1;32m      2\u001b[0m \u001b[0mnode\u001b[0m\u001b[0;34m\u001b[0m\u001b[0m\n",
      "\u001b[0;32m<ipython-input-11-32d15274f40c>\u001b[0m in \u001b[0;36mgraph\u001b[0;34m(input)\u001b[0m\n\u001b[1;32m      2\u001b[0m     \u001b[0mnode\u001b[0m \u001b[0;34m=\u001b[0m \u001b[0;34m[\u001b[0m\u001b[0;34m]\u001b[0m\u001b[0;34m\u001b[0m\u001b[0m\n\u001b[1;32m      3\u001b[0m     \u001b[0;31m# 我想表達的是for i in range(len(input))，只不過因為input 是Tensor object, 所以寫起來就很麻煩。\u001b[0m\u001b[0;34m\u001b[0m\u001b[0;34m\u001b[0m\u001b[0m\n\u001b[0;32m----> 4\u001b[0;31m     \u001b[0;32mfor\u001b[0m \u001b[0mi\u001b[0m \u001b[0;32min\u001b[0m \u001b[0mrange\u001b[0m\u001b[0;34m(\u001b[0m\u001b[0mtf\u001b[0m\u001b[0;34m.\u001b[0m\u001b[0mshape\u001b[0m\u001b[0;34m(\u001b[0m\u001b[0minput\u001b[0m\u001b[0;34m)\u001b[0m\u001b[0;34m[\u001b[0m\u001b[0;36m0\u001b[0m\u001b[0;34m]\u001b[0m\u001b[0;34m.\u001b[0m\u001b[0meval\u001b[0m\u001b[0;34m(\u001b[0m\u001b[0;34m)\u001b[0m\u001b[0;34m)\u001b[0m\u001b[0;34m:\u001b[0m\u001b[0;34m\u001b[0m\u001b[0m\n\u001b[0m\u001b[1;32m      5\u001b[0m         \u001b[0mx\u001b[0m\u001b[0;34m=\u001b[0m\u001b[0minput\u001b[0m\u001b[0;34m[\u001b[0m\u001b[0mi\u001b[0m\u001b[0;34m]\u001b[0m\u001b[0;34m\u001b[0m\u001b[0m\n\u001b[1;32m      6\u001b[0m         \u001b[0mx1\u001b[0m\u001b[0;34m=\u001b[0m \u001b[0mtf\u001b[0m\u001b[0;34m.\u001b[0m\u001b[0mPrint\u001b[0m\u001b[0;34m(\u001b[0m\u001b[0mx\u001b[0m\u001b[0;34m,\u001b[0m\u001b[0;34m[\u001b[0m\u001b[0mx\u001b[0m\u001b[0;34m]\u001b[0m\u001b[0;34m,\u001b[0m\u001b[0mmessage\u001b[0m\u001b[0;34m=\u001b[0m\u001b[0;34m\"tf_Print is: \"\u001b[0m\u001b[0;34m,\u001b[0m\u001b[0mname\u001b[0m\u001b[0;34m=\u001b[0m\u001b[0;34m\"julien_node\"\u001b[0m\u001b[0;34m)\u001b[0m\u001b[0;34m\u001b[0m\u001b[0m\n",
      "\u001b[0;32m/anaconda3/lib/python3.6/site-packages/tensorflow/python/framework/ops.py\u001b[0m in \u001b[0;36meval\u001b[0;34m(self, feed_dict, session)\u001b[0m\n\u001b[1;32m    678\u001b[0m \u001b[0;34m\u001b[0m\u001b[0m\n\u001b[1;32m    679\u001b[0m     \"\"\"\n\u001b[0;32m--> 680\u001b[0;31m     \u001b[0;32mreturn\u001b[0m \u001b[0m_eval_using_default_session\u001b[0m\u001b[0;34m(\u001b[0m\u001b[0mself\u001b[0m\u001b[0;34m,\u001b[0m \u001b[0mfeed_dict\u001b[0m\u001b[0;34m,\u001b[0m \u001b[0mself\u001b[0m\u001b[0;34m.\u001b[0m\u001b[0mgraph\u001b[0m\u001b[0;34m,\u001b[0m \u001b[0msession\u001b[0m\u001b[0;34m)\u001b[0m\u001b[0;34m\u001b[0m\u001b[0m\n\u001b[0m\u001b[1;32m    681\u001b[0m \u001b[0;34m\u001b[0m\u001b[0m\n\u001b[1;32m    682\u001b[0m \u001b[0;34m\u001b[0m\u001b[0m\n",
      "\u001b[0;32m/anaconda3/lib/python3.6/site-packages/tensorflow/python/framework/ops.py\u001b[0m in \u001b[0;36m_eval_using_default_session\u001b[0;34m(tensors, feed_dict, graph, session)\u001b[0m\n\u001b[1;32m   4935\u001b[0m     \u001b[0msession\u001b[0m \u001b[0;34m=\u001b[0m \u001b[0mget_default_session\u001b[0m\u001b[0;34m(\u001b[0m\u001b[0;34m)\u001b[0m\u001b[0;34m\u001b[0m\u001b[0m\n\u001b[1;32m   4936\u001b[0m     \u001b[0;32mif\u001b[0m \u001b[0msession\u001b[0m \u001b[0;32mis\u001b[0m \u001b[0;32mNone\u001b[0m\u001b[0;34m:\u001b[0m\u001b[0;34m\u001b[0m\u001b[0m\n\u001b[0;32m-> 4937\u001b[0;31m       raise ValueError(\"Cannot evaluate tensor using `eval()`: No default \"\n\u001b[0m\u001b[1;32m   4938\u001b[0m                        \u001b[0;34m\"session is registered. Use `with \"\u001b[0m\u001b[0;34m\u001b[0m\u001b[0m\n\u001b[1;32m   4939\u001b[0m                        \u001b[0;34m\"sess.as_default()` or pass an explicit session to \"\u001b[0m\u001b[0;34m\u001b[0m\u001b[0m\n",
      "\u001b[0;31mValueError\u001b[0m: Cannot evaluate tensor using `eval()`: No default session is registered. Use `with sess.as_default()` or pass an explicit session to `eval(session=sess)`"
     ]
    }
   ],
   "source": [
    "node = graph(tf.constant([1,2,3,4,5]))\n",
    "node"
   ]
  },
  {
   "cell_type": "code",
   "execution_count": 13,
   "metadata": {},
   "outputs": [
    {
     "name": "stdout",
     "output_type": "stream",
     "text": [
      "x=  Tensor(\"strided_slice_4:0\", shape=(), dtype=int32)\n",
      "x1=  Tensor(\"julien_node_1:0\", shape=(), dtype=int32)\n",
      "x=  Tensor(\"strided_slice_5:0\", shape=(), dtype=int32)\n",
      "x1=  Tensor(\"julien_node_2:0\", shape=(), dtype=int32)\n",
      "x=  Tensor(\"strided_slice_6:0\", shape=(), dtype=int32)\n",
      "x1=  Tensor(\"julien_node_3:0\", shape=(), dtype=int32)\n",
      "x=  Tensor(\"strided_slice_7:0\", shape=(), dtype=int32)\n",
      "x1=  Tensor(\"julien_node_4:0\", shape=(), dtype=int32)\n",
      "x=  Tensor(\"strided_slice_8:0\", shape=(), dtype=int32)\n",
      "x1=  Tensor(\"julien_node_5:0\", shape=(), dtype=int32)\n"
     ]
    },
    {
     "data": {
      "text/plain": [
       "[1, 2, 3, 4, 5]"
      ]
     },
     "execution_count": 13,
     "metadata": {},
     "output_type": "execute_result"
    }
   ],
   "source": [
    "with tf.Session() as sess:\n",
    "    input = tf.constant([1,2,3,4,5])\n",
    "    sess.run(graph(input))\n",
    "\n",
    "# equivalent to sess.run([julien_node, juilen_node_2,juien_node_3,...])"
   ]
  },
  {
   "cell_type": "code",
   "execution_count": null,
   "metadata": {},
   "outputs": [],
   "source": []
  },
  {
   "cell_type": "markdown",
   "metadata": {},
   "source": [
    "### ex2-1)寫成py 檔\n",
    "#### <ul><li>因為tf.Print()是print 到系統的stderr。所以我們要在command line 下去執行 : $ python tf_print_2.py </li><ul>"
   ]
  },
  {
   "cell_type": "code",
   "execution_count": 14,
   "metadata": {},
   "outputs": [
    {
     "name": "stdout",
     "output_type": "stream",
     "text": [
      "Overwriting tf_print_2.py\n"
     ]
    }
   ],
   "source": [
    "%%writefile tf_print_2.py\n",
    "import tensorflow as tf \n",
    "\n",
    "def graph(input):\n",
    "    node = []\n",
    "    for i in range(tf.shape(input)[0].eval()):\n",
    "        x=input[i]\n",
    "        x1= tf.Print(x,[x],message=\"tf_Print is: \",name=\"julien_node\")\n",
    "        print('x= ',x)\n",
    "        print('x1= ',x1)\n",
    "        node.append(x1)\n",
    "    return node\n",
    "    \n",
    "\n",
    "with tf.Session() as sess:\n",
    "    input = tf.constant([1,2,3,4,5])\n",
    "    sess.run(graph(input))\n",
    "\n",
    "# equivalent to sess.run([julien_node, juilen_node_2,juien_node_3,...])"
   ]
  },
  {
   "cell_type": "markdown",
   "metadata": {},
   "source": [
    "#### <ul><li>Reviw:</li> <li>tf.Print 並沒有照list 的順序印出[1],[2],[3],[4],[5] </li> <li>我想這可能和threading的運算有關係 </li></ul>"
   ]
  },
  {
   "cell_type": "markdown",
   "metadata": {},
   "source": [
    "## ex3) 用place holder 和feed_dict 再寫一次\n",
    "### <ol><li>function take away parameter: input</li><li>add placeholder Tensor</li></ol>"
   ]
  },
  {
   "cell_type": "code",
   "execution_count": 15,
   "metadata": {},
   "outputs": [],
   "source": [
    "import tensorflow as tf\n",
    "import numpy as np\n",
    "\n",
    "# function take away parameter: input\n",
    "def make_graph():\n",
    "    node = []\n",
    "    \n",
    "    # add place holder \n",
    "    input=tf.placeholder(dtype=\"int32\", shape=[5])\n",
    "    \n",
    "    # 我想表達的是for i in range(len(input))，只不過因為input 是Tensor object, 所以寫起來就很麻煩。\n",
    "    for i in range(tf.shape(input)[0].eval(session=sess)):\n",
    "\n",
    "        x=input[i]\n",
    "        x1= tf.Print(x,[x],message=\"tf_Print is: \",name=\"julien_node\")\n",
    "        print('x= ',x)\n",
    "        print('x1= ',x1)\n",
    "        node.append(x1)\n",
    "    return node,input    "
   ]
  },
  {
   "cell_type": "code",
   "execution_count": 16,
   "metadata": {},
   "outputs": [
    {
     "name": "stdout",
     "output_type": "stream",
     "text": [
      "x=  Tensor(\"strided_slice_10:0\", shape=(), dtype=int32)\n",
      "x1=  Tensor(\"julien_node_6:0\", shape=(), dtype=int32)\n",
      "x=  Tensor(\"strided_slice_11:0\", shape=(), dtype=int32)\n",
      "x1=  Tensor(\"julien_node_7:0\", shape=(), dtype=int32)\n",
      "x=  Tensor(\"strided_slice_12:0\", shape=(), dtype=int32)\n",
      "x1=  Tensor(\"julien_node_8:0\", shape=(), dtype=int32)\n",
      "x=  Tensor(\"strided_slice_13:0\", shape=(), dtype=int32)\n",
      "x1=  Tensor(\"julien_node_9:0\", shape=(), dtype=int32)\n",
      "x=  Tensor(\"strided_slice_14:0\", shape=(), dtype=int32)\n",
      "x1=  Tensor(\"julien_node_10:0\", shape=(), dtype=int32)\n"
     ]
    },
    {
     "data": {
      "text/plain": [
       "[1, 2, 3, 4, 5]"
      ]
     },
     "execution_count": 16,
     "metadata": {},
     "output_type": "execute_result"
    }
   ],
   "source": [
    "with tf.Session() as sess:\n",
    "    input_array = np.array([1,2,3,4,5])\n",
    "    node, placeholder = make_graph()\n",
    "    sess.run(node,feed_dict={placeholder:input_array})\n",
    "\n",
    "# equivalent to sess.run([julien_node, juilen_node_2,juien_node_3,...])"
   ]
  },
  {
   "cell_type": "markdown",
   "metadata": {},
   "source": [
    "### 寫成.py file， 去command line 執行 <ul><li>$ python tf_print_2_feeddict.py</li></ul>"
   ]
  },
  {
   "cell_type": "code",
   "execution_count": 17,
   "metadata": {},
   "outputs": [
    {
     "name": "stdout",
     "output_type": "stream",
     "text": [
      "Overwriting tf_print_2_feeddict.py\n"
     ]
    }
   ],
   "source": [
    "%%writefile tf_print_2_feeddict.py\n",
    "\n",
    "import tensorflow as tf\n",
    "import numpy as np\n",
    "\n",
    "# function take away parameter: input\n",
    "def make_graph():\n",
    "    node = []\n",
    "    \n",
    "    # add place holder \n",
    "    input=tf.placeholder(dtype=\"int32\", shape=[5])\n",
    "    \n",
    "    # 我想表達的是for i in range(len(input))，只不過因為input 是Tensor object, 所以寫起來就很麻煩。\n",
    "    for i in range(tf.shape(input)[0].eval(session=sess)):\n",
    "\n",
    "        x=input[i]\n",
    "        x1= tf.Print(x,[x],message=\"tf_Print is: \",name=\"julien_node\")\n",
    "        print('x= ',x)\n",
    "        print('x1= ',x1)\n",
    "        node.append(x1)\n",
    "    return node,input    \n",
    "\n",
    "with tf.Session() as sess:\n",
    "    input_array = np.array([1,2,3,4,5])\n",
    "    node, placeholder = make_graph()\n",
    "    sess.run(node,feed_dict={placeholder:input_array})\n",
    "\n",
    "# equivalent to sess.run([julien_node, juilen_node_2,juien_node_3,...])"
   ]
  },
  {
   "cell_type": "markdown",
   "metadata": {},
   "source": [
    "<h2><ul>\n",
    "    <li>tf.shape(inpuit) returns shape tensor</li>\n",
    "    <li>input.get_shape()returns a [tensor with value] without having to run sess </li>\n",
    "    </ul></h2>"
   ]
  },
  {
   "cell_type": "code",
   "execution_count": 19,
   "metadata": {},
   "outputs": [],
   "source": [
    "import tensorflow as tf"
   ]
  },
  {
   "cell_type": "code",
   "execution_count": 21,
   "metadata": {},
   "outputs": [
    {
     "data": {
      "text/plain": [
       "<tf.Tensor 'Shape_4:0' shape=(1,) dtype=int32>"
      ]
     },
     "execution_count": 21,
     "metadata": {},
     "output_type": "execute_result"
    },
    {
     "data": {
      "text/plain": [
       "TensorShape([Dimension(5)])"
      ]
     },
     "execution_count": 21,
     "metadata": {},
     "output_type": "execute_result"
    }
   ],
   "source": [
    "a = tf.constant([1,2,3,4,5])\n",
    "b = tf.shape(a)\n",
    "c =a.get_shape()\n",
    "\n",
    "b\n",
    "c\n"
   ]
  },
  {
   "cell_type": "code",
   "execution_count": 22,
   "metadata": {},
   "outputs": [
    {
     "data": {
      "text/plain": [
       "tensorflow.python.framework.ops.Tensor"
      ]
     },
     "execution_count": 22,
     "metadata": {},
     "output_type": "execute_result"
    },
    {
     "data": {
      "text/plain": [
       "tensorflow.python.framework.tensor_shape.TensorShape"
      ]
     },
     "execution_count": 22,
     "metadata": {},
     "output_type": "execute_result"
    }
   ],
   "source": [
    "type(b)\n",
    "type(c)"
   ]
  },
  {
   "cell_type": "code",
   "execution_count": null,
   "metadata": {},
   "outputs": [],
   "source": []
  }
 ],
 "metadata": {
  "kernelspec": {
   "display_name": "Python 3",
   "language": "python",
   "name": "python3"
  },
  "language_info": {
   "codemirror_mode": {
    "name": "ipython",
    "version": 3
   },
   "file_extension": ".py",
   "mimetype": "text/x-python",
   "name": "python",
   "nbconvert_exporter": "python",
   "pygments_lexer": "ipython3",
   "version": "3.6.4"
  }
 },
 "nbformat": 4,
 "nbformat_minor": 2
}
