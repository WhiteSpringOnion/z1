{
 "cells": [
  {
   "cell_type": "code",
   "execution_count": 2,
   "metadata": {},
   "outputs": [
    {
     "name": "stdout",
     "output_type": "stream",
     "text": [
      "Writing app.py\n"
     ]
    }
   ],
   "source": [
    "%%writefile app.py\n",
    "\"\"\"01/app.py\n",
    "Main app module.\"\"\"\n",
    "\n",
    "\n",
    "import sys\n",
    "\n",
    "import bprint\n",
    "\n",
    "commands = {\"reboot\": \"Rebooting launch control system.\",\n",
    "            \"halt\": \"Halting all systems.\",\n",
    "            }\n",
    "\n",
    "try:\n",
    "    command = sys.argv[1]\n",
    "except IndexError:\n",
    "    bprint.upper_print(\"No command provided. Terminating.\")\n",
    "    sys.exit(1)\n",
    "else:\n",
    "    print(commands.get(command, \"Doing absolutely nothing.\"))"
   ]
  },
  {
   "cell_type": "code",
   "execution_count": null,
   "metadata": {},
   "outputs": [],
   "source": []
  }
 ],
 "metadata": {
  "kernelspec": {
   "display_name": "Python 3",
   "language": "python",
   "name": "python3"
  },
  "language_info": {
   "codemirror_mode": {
    "name": "ipython",
    "version": 3
   },
   "file_extension": ".py",
   "mimetype": "text/x-python",
   "name": "python",
   "nbconvert_exporter": "python",
   "pygments_lexer": "ipython3",
   "version": "3.6.4"
  }
 },
 "nbformat": 4,
 "nbformat_minor": 2
}
