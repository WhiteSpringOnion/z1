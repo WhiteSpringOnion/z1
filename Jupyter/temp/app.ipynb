{
 "cells": [
  {
   "cell_type": "code",
   "execution_count": 11,
   "metadata": {},
   "outputs": [
    {
     "name": "stdout",
     "output_type": "stream",
     "text": [
      "Overwriting app.py\n"
     ]
    }
   ],
   "source": [
    "%%writefile app.py\n",
    "\n",
    "\"\"\"01/app.py\n",
    "Main app module.\"\"\"\n",
    "\n",
    "\n",
    "import sys\n",
    "\n",
    "import bprint\n",
    "\n",
    "dicc = {\"reboot\": \"Rebooting launch control system.\",\n",
    "            \"halt\": \"Halting all systems.\",\n",
    "        \"hello\": \"hello\"\n",
    "            }\n",
    "\n",
    "try:\n",
    "    print(\"this is try opening bracket\")\n",
    "    command = sys.argv[1]\n",
    "    print('this is try closing bracket!')\n",
    "except IndexError:\n",
    "    bprint.upper_print(\"No command provided. Terminating.\")\n",
    "    sys.exit(1)\n",
    "else:\n",
    "    print(dicc.get(command, \"Doing absolutely nothing.\"))"
   ]
  },
  {
   "cell_type": "code",
   "execution_count": 8,
   "metadata": {},
   "outputs": [
    {
     "data": {
      "text/plain": [
       "'Rebooting launch control system.'"
      ]
     },
     "execution_count": 8,
     "metadata": {},
     "output_type": "execute_result"
    },
    {
     "data": {
      "text/plain": [
       "'Rebooting launch control system.'"
      ]
     },
     "execution_count": 8,
     "metadata": {},
     "output_type": "execute_result"
    },
    {
     "data": {
      "text/plain": [
       "'no hi'"
      ]
     },
     "execution_count": 8,
     "metadata": {},
     "output_type": "execute_result"
    }
   ],
   "source": [
    "dicc['reboot']\n",
    "\n",
    "dicc.get('reboot', \"No reboot\")\n",
    "\n",
    "dicc.get('hi',\"no hi\")\n"
   ]
  },
  {
   "cell_type": "code",
   "execution_count": null,
   "metadata": {},
   "outputs": [],
   "source": []
  }
 ],
 "metadata": {
  "kernelspec": {
   "display_name": "Python 3",
   "language": "python",
   "name": "python3"
  },
  "language_info": {
   "codemirror_mode": {
    "name": "ipython",
    "version": 3
   },
   "file_extension": ".py",
   "mimetype": "text/x-python",
   "name": "python",
   "nbconvert_exporter": "python",
   "pygments_lexer": "ipython3",
   "version": "3.6.4"
  }
 },
 "nbformat": 4,
 "nbformat_minor": 2
}
