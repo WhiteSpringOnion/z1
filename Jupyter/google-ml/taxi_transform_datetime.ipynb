{
 "cells": [
  {
   "cell_type": "markdown",
   "metadata": {},
   "source": [
    "# Topic 1 : Transfer a string representation of a datetime object in csv to datetime object"
   ]
  },
  {
   "cell_type": "code",
   "execution_count": 5,
   "metadata": {},
   "outputs": [],
   "source": [
    "import pandas as pd \n",
    "import datetime"
   ]
  },
  {
   "cell_type": "code",
   "execution_count": 3,
   "metadata": {},
   "outputs": [
    {
     "data": {
      "text/html": [
       "<div>\n",
       "<style scoped>\n",
       "    .dataframe tbody tr th:only-of-type {\n",
       "        vertical-align: middle;\n",
       "    }\n",
       "\n",
       "    .dataframe tbody tr th {\n",
       "        vertical-align: top;\n",
       "    }\n",
       "\n",
       "    .dataframe thead th {\n",
       "        text-align: right;\n",
       "    }\n",
       "</style>\n",
       "<table border=\"1\" class=\"dataframe\">\n",
       "  <thead>\n",
       "    <tr style=\"text-align: right;\">\n",
       "      <th></th>\n",
       "      <th>pickup_datetime</th>\n",
       "      <th>pickup_longitude</th>\n",
       "      <th>pickup_latitude</th>\n",
       "      <th>dropoff_longitude</th>\n",
       "      <th>dropoff_latitude</th>\n",
       "      <th>passenger_count</th>\n",
       "      <th>trip_distance</th>\n",
       "      <th>tolls_amount</th>\n",
       "      <th>fare_amount</th>\n",
       "      <th>total_amount</th>\n",
       "    </tr>\n",
       "  </thead>\n",
       "  <tbody>\n",
       "    <tr>\n",
       "      <th>0</th>\n",
       "      <td>2011-12-03 10:28:00</td>\n",
       "      <td>-73.998822</td>\n",
       "      <td>40.680933</td>\n",
       "      <td>-73.968960</td>\n",
       "      <td>40.757878</td>\n",
       "      <td>1</td>\n",
       "      <td>8.28</td>\n",
       "      <td>0.0</td>\n",
       "      <td>20.9</td>\n",
       "      <td>25.58</td>\n",
       "    </tr>\n",
       "    <tr>\n",
       "      <th>1</th>\n",
       "      <td>2012-05-05 22:46:05</td>\n",
       "      <td>-74.009790</td>\n",
       "      <td>40.712483</td>\n",
       "      <td>-73.959293</td>\n",
       "      <td>40.768908</td>\n",
       "      <td>1</td>\n",
       "      <td>5.20</td>\n",
       "      <td>0.0</td>\n",
       "      <td>16.9</td>\n",
       "      <td>19.90</td>\n",
       "    </tr>\n",
       "    <tr>\n",
       "      <th>2</th>\n",
       "      <td>2010-12-21 13:08:00</td>\n",
       "      <td>-73.982422</td>\n",
       "      <td>40.739847</td>\n",
       "      <td>-73.981658</td>\n",
       "      <td>40.768732</td>\n",
       "      <td>2</td>\n",
       "      <td>2.64</td>\n",
       "      <td>0.0</td>\n",
       "      <td>14.9</td>\n",
       "      <td>15.40</td>\n",
       "    </tr>\n",
       "    <tr>\n",
       "      <th>3</th>\n",
       "      <td>2014-04-30 16:45:10</td>\n",
       "      <td>-73.989434</td>\n",
       "      <td>40.756601</td>\n",
       "      <td>-73.949989</td>\n",
       "      <td>40.826892</td>\n",
       "      <td>1</td>\n",
       "      <td>6.20</td>\n",
       "      <td>0.0</td>\n",
       "      <td>24.5</td>\n",
       "      <td>31.20</td>\n",
       "    </tr>\n",
       "    <tr>\n",
       "      <th>4</th>\n",
       "      <td>2013-04-09 09:39:13</td>\n",
       "      <td>-73.981443</td>\n",
       "      <td>40.763466</td>\n",
       "      <td>-74.010072</td>\n",
       "      <td>40.704927</td>\n",
       "      <td>1</td>\n",
       "      <td>6.50</td>\n",
       "      <td>0.0</td>\n",
       "      <td>24.5</td>\n",
       "      <td>30.00</td>\n",
       "    </tr>\n",
       "  </tbody>\n",
       "</table>\n",
       "</div>"
      ],
      "text/plain": [
       "       pickup_datetime  pickup_longitude  pickup_latitude  dropoff_longitude  \\\n",
       "0  2011-12-03 10:28:00        -73.998822        40.680933         -73.968960   \n",
       "1  2012-05-05 22:46:05        -74.009790        40.712483         -73.959293   \n",
       "2  2010-12-21 13:08:00        -73.982422        40.739847         -73.981658   \n",
       "3  2014-04-30 16:45:10        -73.989434        40.756601         -73.949989   \n",
       "4  2013-04-09 09:39:13        -73.981443        40.763466         -74.010072   \n",
       "\n",
       "   dropoff_latitude  passenger_count  trip_distance  tolls_amount  \\\n",
       "0         40.757878                1           8.28           0.0   \n",
       "1         40.768908                1           5.20           0.0   \n",
       "2         40.768732                2           2.64           0.0   \n",
       "3         40.826892                1           6.20           0.0   \n",
       "4         40.704927                1           6.50           0.0   \n",
       "\n",
       "   fare_amount  total_amount  \n",
       "0         20.9         25.58  \n",
       "1         16.9         19.90  \n",
       "2         14.9         15.40  \n",
       "3         24.5         31.20  \n",
       "4         24.5         30.00  "
      ]
     },
     "execution_count": 3,
     "metadata": {},
     "output_type": "execute_result"
    }
   ],
   "source": [
    "df = pd.read_csv('taxi.csv',encoding='utf-8')\n",
    "df.head()"
   ]
  },
  {
   "cell_type": "code",
   "execution_count": 4,
   "metadata": {},
   "outputs": [
    {
     "name": "stdout",
     "output_type": "stream",
     "text": [
      "<class 'pandas.core.frame.DataFrame'>\n",
      "RangeIndex: 10789 entries, 0 to 10788\n",
      "Data columns (total 10 columns):\n",
      "pickup_datetime      10789 non-null object\n",
      "pickup_longitude     10789 non-null float64\n",
      "pickup_latitude      10789 non-null float64\n",
      "dropoff_longitude    10789 non-null float64\n",
      "dropoff_latitude     10789 non-null float64\n",
      "passenger_count      10789 non-null int64\n",
      "trip_distance        10789 non-null float64\n",
      "tolls_amount         10789 non-null float64\n",
      "fare_amount          10789 non-null float64\n",
      "total_amount         10789 non-null float64\n",
      "dtypes: float64(8), int64(1), object(1)\n",
      "memory usage: 843.0+ KB\n"
     ]
    }
   ],
   "source": [
    "df.info()"
   ]
  },
  {
   "cell_type": "markdown",
   "metadata": {},
   "source": [
    "## try my hand first  -- strptime()"
   ]
  },
  {
   "cell_type": "code",
   "execution_count": 8,
   "metadata": {},
   "outputs": [
    {
     "data": {
      "text/plain": [
       "'2011-12-03 10:28:00'"
      ]
     },
     "execution_count": 8,
     "metadata": {},
     "output_type": "execute_result"
    }
   ],
   "source": [
    "sample = df['pickup_datetime'][0]\n",
    "sample"
   ]
  },
  {
   "cell_type": "code",
   "execution_count": 10,
   "metadata": {},
   "outputs": [
    {
     "data": {
      "text/plain": [
       "datetime.datetime(2011, 12, 3, 10, 28)"
      ]
     },
     "execution_count": 10,
     "metadata": {},
     "output_type": "execute_result"
    }
   ],
   "source": [
    "sample_p=datetime.datetime.strptime(sample, '%Y-%m-%d %H:%M:%S')\n",
    "sample_p"
   ]
  },
  {
   "cell_type": "markdown",
   "metadata": {},
   "source": [
    "## action !!"
   ]
  },
  {
   "cell_type": "code",
   "execution_count": 12,
   "metadata": {},
   "outputs": [
    {
     "data": {
      "text/plain": [
       "10789"
      ]
     },
     "execution_count": 12,
     "metadata": {},
     "output_type": "execute_result"
    }
   ],
   "source": [
    "len(df)"
   ]
  },
  {
   "cell_type": "code",
   "execution_count": 20,
   "metadata": {},
   "outputs": [],
   "source": [
    "_list = [datetime.datetime.strptime(df['pickup_datetime'][i],'%Y-%m-%d %H:%M:%S') for i in range(len(df))]\n",
    "\n",
    "series= pd.Series(_list)"
   ]
  },
  {
   "cell_type": "code",
   "execution_count": 22,
   "metadata": {},
   "outputs": [
    {
     "name": "stdout",
     "output_type": "stream",
     "text": [
      "<class 'pandas.core.frame.DataFrame'>\n",
      "RangeIndex: 10789 entries, 0 to 10788\n",
      "Data columns (total 10 columns):\n",
      "pickup_datetime      10789 non-null datetime64[ns]\n",
      "pickup_longitude     10789 non-null float64\n",
      "pickup_latitude      10789 non-null float64\n",
      "dropoff_longitude    10789 non-null float64\n",
      "dropoff_latitude     10789 non-null float64\n",
      "passenger_count      10789 non-null int64\n",
      "trip_distance        10789 non-null float64\n",
      "tolls_amount         10789 non-null float64\n",
      "fare_amount          10789 non-null float64\n",
      "total_amount         10789 non-null float64\n",
      "dtypes: datetime64[ns](1), float64(8), int64(1)\n",
      "memory usage: 843.0 KB\n"
     ]
    }
   ],
   "source": [
    "df['pickup_datetime']=series\n",
    "df.info()"
   ]
  },
  {
   "cell_type": "markdown",
   "metadata": {},
   "source": [
    "## Save"
   ]
  },
  {
   "cell_type": "code",
   "execution_count": 26,
   "metadata": {},
   "outputs": [],
   "source": [
    "df.to_csv('taxi_2.csv',encoding='utf-8',index=False)"
   ]
  },
  {
   "cell_type": "code",
   "execution_count": 27,
   "metadata": {},
   "outputs": [
    {
     "data": {
      "text/html": [
       "<div>\n",
       "<style scoped>\n",
       "    .dataframe tbody tr th:only-of-type {\n",
       "        vertical-align: middle;\n",
       "    }\n",
       "\n",
       "    .dataframe tbody tr th {\n",
       "        vertical-align: top;\n",
       "    }\n",
       "\n",
       "    .dataframe thead th {\n",
       "        text-align: right;\n",
       "    }\n",
       "</style>\n",
       "<table border=\"1\" class=\"dataframe\">\n",
       "  <thead>\n",
       "    <tr style=\"text-align: right;\">\n",
       "      <th></th>\n",
       "      <th>pickup_datetime</th>\n",
       "      <th>pickup_longitude</th>\n",
       "      <th>pickup_latitude</th>\n",
       "      <th>dropoff_longitude</th>\n",
       "      <th>dropoff_latitude</th>\n",
       "      <th>passenger_count</th>\n",
       "      <th>trip_distance</th>\n",
       "      <th>tolls_amount</th>\n",
       "      <th>fare_amount</th>\n",
       "      <th>total_amount</th>\n",
       "    </tr>\n",
       "  </thead>\n",
       "  <tbody>\n",
       "    <tr>\n",
       "      <th>0</th>\n",
       "      <td>2011-12-03 10:28:00</td>\n",
       "      <td>-73.998822</td>\n",
       "      <td>40.680933</td>\n",
       "      <td>-73.968960</td>\n",
       "      <td>40.757878</td>\n",
       "      <td>1</td>\n",
       "      <td>8.28</td>\n",
       "      <td>0.0</td>\n",
       "      <td>20.9</td>\n",
       "      <td>25.58</td>\n",
       "    </tr>\n",
       "    <tr>\n",
       "      <th>1</th>\n",
       "      <td>2012-05-05 22:46:05</td>\n",
       "      <td>-74.009790</td>\n",
       "      <td>40.712483</td>\n",
       "      <td>-73.959293</td>\n",
       "      <td>40.768908</td>\n",
       "      <td>1</td>\n",
       "      <td>5.20</td>\n",
       "      <td>0.0</td>\n",
       "      <td>16.9</td>\n",
       "      <td>19.90</td>\n",
       "    </tr>\n",
       "    <tr>\n",
       "      <th>2</th>\n",
       "      <td>2010-12-21 13:08:00</td>\n",
       "      <td>-73.982422</td>\n",
       "      <td>40.739847</td>\n",
       "      <td>-73.981658</td>\n",
       "      <td>40.768732</td>\n",
       "      <td>2</td>\n",
       "      <td>2.64</td>\n",
       "      <td>0.0</td>\n",
       "      <td>14.9</td>\n",
       "      <td>15.40</td>\n",
       "    </tr>\n",
       "    <tr>\n",
       "      <th>3</th>\n",
       "      <td>2014-04-30 16:45:10</td>\n",
       "      <td>-73.989434</td>\n",
       "      <td>40.756601</td>\n",
       "      <td>-73.949989</td>\n",
       "      <td>40.826892</td>\n",
       "      <td>1</td>\n",
       "      <td>6.20</td>\n",
       "      <td>0.0</td>\n",
       "      <td>24.5</td>\n",
       "      <td>31.20</td>\n",
       "    </tr>\n",
       "    <tr>\n",
       "      <th>4</th>\n",
       "      <td>2013-04-09 09:39:13</td>\n",
       "      <td>-73.981443</td>\n",
       "      <td>40.763466</td>\n",
       "      <td>-74.010072</td>\n",
       "      <td>40.704927</td>\n",
       "      <td>1</td>\n",
       "      <td>6.50</td>\n",
       "      <td>0.0</td>\n",
       "      <td>24.5</td>\n",
       "      <td>30.00</td>\n",
       "    </tr>\n",
       "  </tbody>\n",
       "</table>\n",
       "</div>"
      ],
      "text/plain": [
       "       pickup_datetime  pickup_longitude  pickup_latitude  dropoff_longitude  \\\n",
       "0  2011-12-03 10:28:00        -73.998822        40.680933         -73.968960   \n",
       "1  2012-05-05 22:46:05        -74.009790        40.712483         -73.959293   \n",
       "2  2010-12-21 13:08:00        -73.982422        40.739847         -73.981658   \n",
       "3  2014-04-30 16:45:10        -73.989434        40.756601         -73.949989   \n",
       "4  2013-04-09 09:39:13        -73.981443        40.763466         -74.010072   \n",
       "\n",
       "   dropoff_latitude  passenger_count  trip_distance  tolls_amount  \\\n",
       "0         40.757878                1           8.28           0.0   \n",
       "1         40.768908                1           5.20           0.0   \n",
       "2         40.768732                2           2.64           0.0   \n",
       "3         40.826892                1           6.20           0.0   \n",
       "4         40.704927                1           6.50           0.0   \n",
       "\n",
       "   fare_amount  total_amount  \n",
       "0         20.9         25.58  \n",
       "1         16.9         19.90  \n",
       "2         14.9         15.40  \n",
       "3         24.5         31.20  \n",
       "4         24.5         30.00  "
      ]
     },
     "execution_count": 27,
     "metadata": {},
     "output_type": "execute_result"
    }
   ],
   "source": [
    "df_3=pd.read_csv('taxi_2.csv',encoding='utf-8')\n",
    "df_3.head()"
   ]
  },
  {
   "cell_type": "code",
   "execution_count": 28,
   "metadata": {},
   "outputs": [
    {
     "name": "stdout",
     "output_type": "stream",
     "text": [
      "<class 'pandas.core.frame.DataFrame'>\n",
      "RangeIndex: 10789 entries, 0 to 10788\n",
      "Data columns (total 10 columns):\n",
      "pickup_datetime      10789 non-null object\n",
      "pickup_longitude     10789 non-null float64\n",
      "pickup_latitude      10789 non-null float64\n",
      "dropoff_longitude    10789 non-null float64\n",
      "dropoff_latitude     10789 non-null float64\n",
      "passenger_count      10789 non-null int64\n",
      "trip_distance        10789 non-null float64\n",
      "tolls_amount         10789 non-null float64\n",
      "fare_amount          10789 non-null float64\n",
      "total_amount         10789 non-null float64\n",
      "dtypes: float64(8), int64(1), object(1)\n",
      "memory usage: 843.0+ KB\n"
     ]
    }
   ],
   "source": [
    "df_3.info()"
   ]
  },
  {
   "cell_type": "markdown",
   "metadata": {},
   "source": [
    "# Topic 2"
   ]
  },
  {
   "cell_type": "code",
   "execution_count": 1,
   "metadata": {},
   "outputs": [
    {
     "name": "stdout",
     "output_type": "stream",
     "text": [
      "<class 'pandas.core.frame.DataFrame'>\n",
      "RangeIndex: 10789 entries, 0 to 10788\n",
      "Data columns (total 10 columns):\n",
      "pickup_datetime      10789 non-null object\n",
      "pickup_longitude     10789 non-null float64\n",
      "pickup_latitude      10789 non-null float64\n",
      "dropoff_longitude    10789 non-null float64\n",
      "dropoff_latitude     10789 non-null float64\n",
      "passenger_count      10789 non-null int64\n",
      "trip_distance        10789 non-null float64\n",
      "tolls_amount         10789 non-null float64\n",
      "fare_amount          10789 non-null float64\n",
      "total_amount         10789 non-null float64\n",
      "dtypes: float64(8), int64(1), object(1)\n",
      "memory usage: 843.0+ KB\n"
     ]
    }
   ],
   "source": [
    "import pandas as pd \n",
    "df = pd.read_csv('ml-2-taxi_2.csv',encoding='utf-8')\n",
    "df.info()"
   ]
  },
  {
   "cell_type": "code",
   "execution_count": 2,
   "metadata": {},
   "outputs": [
    {
     "data": {
      "text/html": [
       "<div>\n",
       "<style scoped>\n",
       "    .dataframe tbody tr th:only-of-type {\n",
       "        vertical-align: middle;\n",
       "    }\n",
       "\n",
       "    .dataframe tbody tr th {\n",
       "        vertical-align: top;\n",
       "    }\n",
       "\n",
       "    .dataframe thead th {\n",
       "        text-align: right;\n",
       "    }\n",
       "</style>\n",
       "<table border=\"1\" class=\"dataframe\">\n",
       "  <thead>\n",
       "    <tr style=\"text-align: right;\">\n",
       "      <th></th>\n",
       "      <th>pickup_datetime</th>\n",
       "      <th>pickup_longitude</th>\n",
       "      <th>pickup_latitude</th>\n",
       "      <th>dropoff_longitude</th>\n",
       "      <th>dropoff_latitude</th>\n",
       "      <th>passenger_count</th>\n",
       "      <th>trip_distance</th>\n",
       "      <th>tolls_amount</th>\n",
       "      <th>fare_amount</th>\n",
       "      <th>total_amount</th>\n",
       "    </tr>\n",
       "  </thead>\n",
       "  <tbody>\n",
       "    <tr>\n",
       "      <th>0</th>\n",
       "      <td>2011-12-03 10:28:00</td>\n",
       "      <td>-73.998822</td>\n",
       "      <td>40.680933</td>\n",
       "      <td>-73.968960</td>\n",
       "      <td>40.757878</td>\n",
       "      <td>1</td>\n",
       "      <td>8.28</td>\n",
       "      <td>0.00</td>\n",
       "      <td>20.9</td>\n",
       "      <td>25.58</td>\n",
       "    </tr>\n",
       "    <tr>\n",
       "      <th>1</th>\n",
       "      <td>2012-05-05 22:46:05</td>\n",
       "      <td>-74.009790</td>\n",
       "      <td>40.712483</td>\n",
       "      <td>-73.959293</td>\n",
       "      <td>40.768908</td>\n",
       "      <td>1</td>\n",
       "      <td>5.20</td>\n",
       "      <td>0.00</td>\n",
       "      <td>16.9</td>\n",
       "      <td>19.90</td>\n",
       "    </tr>\n",
       "    <tr>\n",
       "      <th>2</th>\n",
       "      <td>2010-12-21 13:08:00</td>\n",
       "      <td>-73.982422</td>\n",
       "      <td>40.739847</td>\n",
       "      <td>-73.981658</td>\n",
       "      <td>40.768732</td>\n",
       "      <td>2</td>\n",
       "      <td>2.64</td>\n",
       "      <td>0.00</td>\n",
       "      <td>14.9</td>\n",
       "      <td>15.40</td>\n",
       "    </tr>\n",
       "    <tr>\n",
       "      <th>3</th>\n",
       "      <td>2014-04-30 16:45:10</td>\n",
       "      <td>-73.989434</td>\n",
       "      <td>40.756601</td>\n",
       "      <td>-73.949989</td>\n",
       "      <td>40.826892</td>\n",
       "      <td>1</td>\n",
       "      <td>6.20</td>\n",
       "      <td>0.00</td>\n",
       "      <td>24.5</td>\n",
       "      <td>31.20</td>\n",
       "    </tr>\n",
       "    <tr>\n",
       "      <th>4</th>\n",
       "      <td>2013-04-09 09:39:13</td>\n",
       "      <td>-73.981443</td>\n",
       "      <td>40.763466</td>\n",
       "      <td>-74.010072</td>\n",
       "      <td>40.704927</td>\n",
       "      <td>1</td>\n",
       "      <td>6.50</td>\n",
       "      <td>0.00</td>\n",
       "      <td>24.5</td>\n",
       "      <td>30.00</td>\n",
       "    </tr>\n",
       "    <tr>\n",
       "      <th>5</th>\n",
       "      <td>2014-04-19 14:08:46</td>\n",
       "      <td>-73.964716</td>\n",
       "      <td>40.773071</td>\n",
       "      <td>-73.997511</td>\n",
       "      <td>40.697289</td>\n",
       "      <td>1</td>\n",
       "      <td>8.70</td>\n",
       "      <td>0.00</td>\n",
       "      <td>26.5</td>\n",
       "      <td>33.75</td>\n",
       "    </tr>\n",
       "    <tr>\n",
       "      <th>6</th>\n",
       "      <td>2014-12-08 21:50:00</td>\n",
       "      <td>-73.994802</td>\n",
       "      <td>40.720612</td>\n",
       "      <td>-73.949125</td>\n",
       "      <td>40.668893</td>\n",
       "      <td>1</td>\n",
       "      <td>5.33</td>\n",
       "      <td>0.00</td>\n",
       "      <td>22.0</td>\n",
       "      <td>27.00</td>\n",
       "    </tr>\n",
       "    <tr>\n",
       "      <th>7</th>\n",
       "      <td>2012-03-04 00:57:00</td>\n",
       "      <td>-74.005625</td>\n",
       "      <td>40.734517</td>\n",
       "      <td>-73.952492</td>\n",
       "      <td>40.725197</td>\n",
       "      <td>1</td>\n",
       "      <td>7.33</td>\n",
       "      <td>0.00</td>\n",
       "      <td>20.5</td>\n",
       "      <td>23.50</td>\n",
       "    </tr>\n",
       "    <tr>\n",
       "      <th>8</th>\n",
       "      <td>2013-12-09 15:03:00</td>\n",
       "      <td>-73.990950</td>\n",
       "      <td>40.749772</td>\n",
       "      <td>-73.870807</td>\n",
       "      <td>40.774070</td>\n",
       "      <td>1</td>\n",
       "      <td>9.44</td>\n",
       "      <td>5.33</td>\n",
       "      <td>29.0</td>\n",
       "      <td>34.83</td>\n",
       "    </tr>\n",
       "    <tr>\n",
       "      <th>9</th>\n",
       "      <td>2013-08-21 23:14:38</td>\n",
       "      <td>-73.783667</td>\n",
       "      <td>40.648622</td>\n",
       "      <td>-73.918375</td>\n",
       "      <td>40.700288</td>\n",
       "      <td>2</td>\n",
       "      <td>10.30</td>\n",
       "      <td>0.00</td>\n",
       "      <td>32.0</td>\n",
       "      <td>37.00</td>\n",
       "    </tr>\n",
       "  </tbody>\n",
       "</table>\n",
       "</div>"
      ],
      "text/plain": [
       "       pickup_datetime  pickup_longitude  pickup_latitude  dropoff_longitude  \\\n",
       "0  2011-12-03 10:28:00        -73.998822        40.680933         -73.968960   \n",
       "1  2012-05-05 22:46:05        -74.009790        40.712483         -73.959293   \n",
       "2  2010-12-21 13:08:00        -73.982422        40.739847         -73.981658   \n",
       "3  2014-04-30 16:45:10        -73.989434        40.756601         -73.949989   \n",
       "4  2013-04-09 09:39:13        -73.981443        40.763466         -74.010072   \n",
       "5  2014-04-19 14:08:46        -73.964716        40.773071         -73.997511   \n",
       "6  2014-12-08 21:50:00        -73.994802        40.720612         -73.949125   \n",
       "7  2012-03-04 00:57:00        -74.005625        40.734517         -73.952492   \n",
       "8  2013-12-09 15:03:00        -73.990950        40.749772         -73.870807   \n",
       "9  2013-08-21 23:14:38        -73.783667        40.648622         -73.918375   \n",
       "\n",
       "   dropoff_latitude  passenger_count  trip_distance  tolls_amount  \\\n",
       "0         40.757878                1           8.28          0.00   \n",
       "1         40.768908                1           5.20          0.00   \n",
       "2         40.768732                2           2.64          0.00   \n",
       "3         40.826892                1           6.20          0.00   \n",
       "4         40.704927                1           6.50          0.00   \n",
       "5         40.697289                1           8.70          0.00   \n",
       "6         40.668893                1           5.33          0.00   \n",
       "7         40.725197                1           7.33          0.00   \n",
       "8         40.774070                1           9.44          5.33   \n",
       "9         40.700288                2          10.30          0.00   \n",
       "\n",
       "   fare_amount  total_amount  \n",
       "0         20.9         25.58  \n",
       "1         16.9         19.90  \n",
       "2         14.9         15.40  \n",
       "3         24.5         31.20  \n",
       "4         24.5         30.00  \n",
       "5         26.5         33.75  \n",
       "6         22.0         27.00  \n",
       "7         20.5         23.50  \n",
       "8         29.0         34.83  \n",
       "9         32.0         37.00  "
      ]
     },
     "execution_count": 2,
     "metadata": {},
     "output_type": "execute_result"
    }
   ],
   "source": [
    "goodrows = df[df['pickup_longitude'] < -70]\n",
    "goodrows[:10]"
   ]
  },
  {
   "cell_type": "code",
   "execution_count": 6,
   "metadata": {},
   "outputs": [
    {
     "name": "stdout",
     "output_type": "stream",
     "text": [
      "iter=  0\n",
      "<class 'pandas.core.series.Series'>\n",
      "iter=  1\n",
      "<class 'pandas.core.series.Series'>\n",
      "iter=  2\n",
      "<class 'pandas.core.series.Series'>\n",
      "iter=  3\n",
      "<class 'pandas.core.series.Series'>\n",
      "iter=  4\n",
      "<class 'pandas.core.series.Series'>\n",
      "iter=  5\n",
      "<class 'pandas.core.series.Series'>\n",
      "iter=  6\n",
      "<class 'pandas.core.series.Series'>\n",
      "iter=  7\n",
      "<class 'pandas.core.series.Series'>\n",
      "iter=  8\n",
      "<class 'pandas.core.series.Series'>\n",
      "iter=  9\n",
      "<class 'pandas.core.series.Series'>\n"
     ]
    }
   ],
   "source": [
    "for _iter, row in goodrows[:10].iterrows():\n",
    "    print('iter= ',_iter)\n",
    "    print(type(row))"
   ]
  },
  {
   "cell_type": "code",
   "execution_count": null,
   "metadata": {},
   "outputs": [],
   "source": []
  }
 ],
 "metadata": {
  "kernelspec": {
   "display_name": "Python 3",
   "language": "python",
   "name": "python3"
  },
  "language_info": {
   "codemirror_mode": {
    "name": "ipython",
    "version": 3
   },
   "file_extension": ".py",
   "mimetype": "text/x-python",
   "name": "python",
   "nbconvert_exporter": "python",
   "pygments_lexer": "ipython3",
   "version": "3.6.4"
  }
 },
 "nbformat": 4,
 "nbformat_minor": 2
}
